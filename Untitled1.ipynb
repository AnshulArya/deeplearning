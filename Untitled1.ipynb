{
 "cells": [
  {
   "cell_type": "code",
   "execution_count": 0,
   "metadata": {
    "colab": {},
    "colab_type": "code",
    "id": "fOYUeMezQqmL"
   },
   "outputs": [],
   "source": [
    "import ssl\n",
    "import zipfile, urllib.request, shutil\n",
    "\n",
    "\n",
    "ssl._create_default_https_context = ssl._create_unverified_context\n",
    "\n",
    "\n",
    "url = 'https://sct.insofe.edu.in/media/question_img_upload/CSE7321c_Deep_Learning%20and%20Text_Mining_CUTe-1540270465813.zip'\n",
    "file_name = 'myzip.zip'\n",
    "\n",
    "with urllib.request.urlopen(url) as response, open(file_name, 'wb') as out_file:\n",
    "    shutil.copyfileobj(response, out_file)\n",
    "    with zipfile.ZipFile(file_name) as zf:\n",
    "        zf.extractall()"
   ]
  },
  {
   "cell_type": "code",
   "execution_count": 0,
   "metadata": {
    "colab": {},
    "colab_type": "code",
    "id": "YcunYY1qQ2Tb"
   },
   "outputs": [],
   "source": [
    "#import libraries\n",
    "import re\n",
    "import pandas as pd\n",
    "import numpy as np\n",
    "import seaborn as sns\n",
    "import matplotlib.pyplot as plt\n",
    "\n",
    "# We will use the following Scikit-Learn classes for the activity\n",
    "from sklearn import svm\n",
    "from sklearn.model_selection import train_test_split\n",
    "from sklearn import metrics \n",
    "\n",
    "#from sklearn.feature_extrection.text import CountVectorizer\n",
    "from sklearn.feature_extraction.text import TfidfVectorizer\n",
    "\n",
    "\n",
    "\n",
    "from google.colab import files"
   ]
  },
  {
   "cell_type": "code",
   "execution_count": 4,
   "metadata": {
    "colab": {
     "base_uri": "https://localhost:8080/",
     "height": 832
    },
    "colab_type": "code",
    "id": "Zi9_XTj1RWcU",
    "outputId": "ebe9f4af-c525-4e33-e3b3-a9f56a49c0a5"
   },
   "outputs": [
    {
     "name": "stdout",
     "output_type": "stream",
     "text": [
      "[nltk_data] Downloading collection 'popular'\n",
      "[nltk_data]    | \n",
      "[nltk_data]    | Downloading package cmudict to /root/nltk_data...\n",
      "[nltk_data]    |   Unzipping corpora/cmudict.zip.\n",
      "[nltk_data]    | Downloading package gazetteers to /root/nltk_data...\n",
      "[nltk_data]    |   Unzipping corpora/gazetteers.zip.\n",
      "[nltk_data]    | Downloading package genesis to /root/nltk_data...\n",
      "[nltk_data]    |   Unzipping corpora/genesis.zip.\n",
      "[nltk_data]    | Downloading package gutenberg to /root/nltk_data...\n",
      "[nltk_data]    |   Unzipping corpora/gutenberg.zip.\n",
      "[nltk_data]    | Downloading package inaugural to /root/nltk_data...\n",
      "[nltk_data]    |   Unzipping corpora/inaugural.zip.\n",
      "[nltk_data]    | Downloading package movie_reviews to\n",
      "[nltk_data]    |     /root/nltk_data...\n",
      "[nltk_data]    |   Unzipping corpora/movie_reviews.zip.\n",
      "[nltk_data]    | Downloading package names to /root/nltk_data...\n",
      "[nltk_data]    |   Unzipping corpora/names.zip.\n",
      "[nltk_data]    | Downloading package shakespeare to /root/nltk_data...\n",
      "[nltk_data]    |   Unzipping corpora/shakespeare.zip.\n",
      "[nltk_data]    | Downloading package stopwords to /root/nltk_data...\n",
      "[nltk_data]    |   Unzipping corpora/stopwords.zip.\n",
      "[nltk_data]    | Downloading package treebank to /root/nltk_data...\n",
      "[nltk_data]    |   Unzipping corpora/treebank.zip.\n",
      "[nltk_data]    | Downloading package twitter_samples to\n",
      "[nltk_data]    |     /root/nltk_data...\n",
      "[nltk_data]    |   Unzipping corpora/twitter_samples.zip.\n",
      "[nltk_data]    | Downloading package omw to /root/nltk_data...\n",
      "[nltk_data]    |   Unzipping corpora/omw.zip.\n",
      "[nltk_data]    | Downloading package wordnet to /root/nltk_data...\n",
      "[nltk_data]    |   Unzipping corpora/wordnet.zip.\n",
      "[nltk_data]    | Downloading package wordnet_ic to /root/nltk_data...\n",
      "[nltk_data]    |   Unzipping corpora/wordnet_ic.zip.\n",
      "[nltk_data]    | Downloading package words to /root/nltk_data...\n",
      "[nltk_data]    |   Unzipping corpora/words.zip.\n",
      "[nltk_data]    | Downloading package maxent_ne_chunker to\n",
      "[nltk_data]    |     /root/nltk_data...\n",
      "[nltk_data]    |   Unzipping chunkers/maxent_ne_chunker.zip.\n",
      "[nltk_data]    | Downloading package punkt to /root/nltk_data...\n",
      "[nltk_data]    |   Unzipping tokenizers/punkt.zip.\n",
      "[nltk_data]    | Downloading package snowball_data to\n",
      "[nltk_data]    |     /root/nltk_data...\n",
      "[nltk_data]    | Downloading package averaged_perceptron_tagger to\n",
      "[nltk_data]    |     /root/nltk_data...\n",
      "[nltk_data]    |   Unzipping taggers/averaged_perceptron_tagger.zip.\n",
      "[nltk_data]    | \n",
      "[nltk_data]  Done downloading collection popular\n"
     ]
    },
    {
     "data": {
      "text/plain": [
       "True"
      ]
     },
     "execution_count": 4,
     "metadata": {
      "tags": []
     },
     "output_type": "execute_result"
    }
   ],
   "source": [
    "#use NLTK libraries for text preprocessing\n",
    "import nltk\n",
    "from nltk.corpus import stopwords\n",
    "from nltk.corpus import RegexpTokenizer as regextoken\n",
    "from nltk.stem import WordNetLemmatizer\n",
    "\n",
    "nltk.download(\"popular\")"
   ]
  },
  {
   "cell_type": "code",
   "execution_count": 0,
   "metadata": {
    "colab": {},
    "colab_type": "code",
    "id": "DbGO1ZRaRaO6"
   },
   "outputs": [],
   "source": [
    "train_data = pd.read_csv(\"CSE7321c_Deep_Learning and Text_Mining_CUTe/train.csv\",encoding='latin-1')\n",
    "test_data= pd.read_csv(\"CSE7321c_Deep_Learning and Text_Mining_CUTe/test.csv\",encoding='latin-1')"
   ]
  },
  {
   "cell_type": "code",
   "execution_count": 6,
   "metadata": {
    "colab": {
     "base_uri": "https://localhost:8080/",
     "height": 202
    },
    "colab_type": "code",
    "id": "6FsBW-RaXJlI",
    "outputId": "9c114131-86b5-445f-8e2f-8f804c74cab4"
   },
   "outputs": [
    {
     "data": {
      "text/html": [
       "<div>\n",
       "<style scoped>\n",
       "    .dataframe tbody tr th:only-of-type {\n",
       "        vertical-align: middle;\n",
       "    }\n",
       "\n",
       "    .dataframe tbody tr th {\n",
       "        vertical-align: top;\n",
       "    }\n",
       "\n",
       "    .dataframe thead th {\n",
       "        text-align: right;\n",
       "    }\n",
       "</style>\n",
       "<table border=\"1\" class=\"dataframe\">\n",
       "  <thead>\n",
       "    <tr style=\"text-align: right;\">\n",
       "      <th></th>\n",
       "      <th>ID</th>\n",
       "      <th>reviewText</th>\n",
       "      <th>overall</th>\n",
       "    </tr>\n",
       "  </thead>\n",
       "  <tbody>\n",
       "    <tr>\n",
       "      <th>0</th>\n",
       "      <td>1</td>\n",
       "      <td>These are so wonderful to have in the car in t...</td>\n",
       "      <td>5</td>\n",
       "    </tr>\n",
       "    <tr>\n",
       "      <th>1</th>\n",
       "      <td>2</td>\n",
       "      <td>XL fits perfect on me over armored riding jack...</td>\n",
       "      <td>5</td>\n",
       "    </tr>\n",
       "    <tr>\n",
       "      <th>2</th>\n",
       "      <td>3</td>\n",
       "      <td>Since I had just noticed my wiper blades neede...</td>\n",
       "      <td>3</td>\n",
       "    </tr>\n",
       "    <tr>\n",
       "      <th>3</th>\n",
       "      <td>4</td>\n",
       "      <td>I am very satisfied with G110v2.  It is comfor...</td>\n",
       "      <td>5</td>\n",
       "    </tr>\n",
       "    <tr>\n",
       "      <th>4</th>\n",
       "      <td>5</td>\n",
       "      <td>This amp did a good job for its rating. It was...</td>\n",
       "      <td>3</td>\n",
       "    </tr>\n",
       "  </tbody>\n",
       "</table>\n",
       "</div>"
      ],
      "text/plain": [
       "   ID                                         reviewText  overall\n",
       "0   1  These are so wonderful to have in the car in t...        5\n",
       "1   2  XL fits perfect on me over armored riding jack...        5\n",
       "2   3  Since I had just noticed my wiper blades neede...        3\n",
       "3   4  I am very satisfied with G110v2.  It is comfor...        5\n",
       "4   5  This amp did a good job for its rating. It was...        3"
      ]
     },
     "execution_count": 6,
     "metadata": {
      "tags": []
     },
     "output_type": "execute_result"
    }
   ],
   "source": [
    "train_data[0:5]"
   ]
  },
  {
   "cell_type": "code",
   "execution_count": 7,
   "metadata": {
    "colab": {
     "base_uri": "https://localhost:8080/",
     "height": 35
    },
    "colab_type": "code",
    "id": "FgiRem4laQXo",
    "outputId": "3948976e-176e-424c-eddf-73cb802f0c65"
   },
   "outputs": [
    {
     "data": {
      "text/plain": [
       "array([1, 2, 3, 4, 5])"
      ]
     },
     "execution_count": 7,
     "metadata": {
      "tags": []
     },
     "output_type": "execute_result"
    }
   ],
   "source": [
    "np.unique(train_data['overall'])"
   ]
  },
  {
   "cell_type": "code",
   "execution_count": 8,
   "metadata": {
    "colab": {
     "base_uri": "https://localhost:8080/",
     "height": 52
    },
    "colab_type": "code",
    "id": "4I2RHtTYSP-M",
    "outputId": "e565d0ac-3304-43d1-e047-cc03879aeaff"
   },
   "outputs": [
    {
     "name": "stdout",
     "output_type": "stream",
     "text": [
      "Number of words: \n",
      "3\n"
     ]
    }
   ],
   "source": [
    "\n",
    "# Summarize number of words\n",
    "print(\"Number of words: \")\n",
    "print(len(np.unique(np.hstack(train_data))))"
   ]
  },
  {
   "cell_type": "markdown",
   "metadata": {
    "colab_type": "text",
    "id": "86f_WLB5ueMe"
   },
   "source": [
    "**Number of Words**"
   ]
  },
  {
   "cell_type": "code",
   "execution_count": 9,
   "metadata": {
    "colab": {
     "base_uri": "https://localhost:8080/",
     "height": 202
    },
    "colab_type": "code",
    "id": "y2yqc12ZtHjr",
    "outputId": "f0932021-93ab-4900-8e68-22172b19fc28"
   },
   "outputs": [
    {
     "data": {
      "text/html": [
       "<div>\n",
       "<style scoped>\n",
       "    .dataframe tbody tr th:only-of-type {\n",
       "        vertical-align: middle;\n",
       "    }\n",
       "\n",
       "    .dataframe tbody tr th {\n",
       "        vertical-align: top;\n",
       "    }\n",
       "\n",
       "    .dataframe thead th {\n",
       "        text-align: right;\n",
       "    }\n",
       "</style>\n",
       "<table border=\"1\" class=\"dataframe\">\n",
       "  <thead>\n",
       "    <tr style=\"text-align: right;\">\n",
       "      <th></th>\n",
       "      <th>reviewText</th>\n",
       "      <th>word_count</th>\n",
       "    </tr>\n",
       "  </thead>\n",
       "  <tbody>\n",
       "    <tr>\n",
       "      <th>0</th>\n",
       "      <td>These are so wonderful to have in the car in t...</td>\n",
       "      <td>158</td>\n",
       "    </tr>\n",
       "    <tr>\n",
       "      <th>1</th>\n",
       "      <td>XL fits perfect on me over armored riding jack...</td>\n",
       "      <td>67</td>\n",
       "    </tr>\n",
       "    <tr>\n",
       "      <th>2</th>\n",
       "      <td>Since I had just noticed my wiper blades neede...</td>\n",
       "      <td>349</td>\n",
       "    </tr>\n",
       "    <tr>\n",
       "      <th>3</th>\n",
       "      <td>I am very satisfied with G110v2.  It is comfor...</td>\n",
       "      <td>210</td>\n",
       "    </tr>\n",
       "    <tr>\n",
       "      <th>4</th>\n",
       "      <td>This amp did a good job for its rating. It was...</td>\n",
       "      <td>30</td>\n",
       "    </tr>\n",
       "  </tbody>\n",
       "</table>\n",
       "</div>"
      ],
      "text/plain": [
       "                                          reviewText  word_count\n",
       "0  These are so wonderful to have in the car in t...         158\n",
       "1  XL fits perfect on me over armored riding jack...          67\n",
       "2  Since I had just noticed my wiper blades neede...         349\n",
       "3  I am very satisfied with G110v2.  It is comfor...         210\n",
       "4  This amp did a good job for its rating. It was...          30"
      ]
     },
     "execution_count": 9,
     "metadata": {
      "tags": []
     },
     "output_type": "execute_result"
    }
   ],
   "source": [
    "train_data['word_count'] = train_data['reviewText'].apply(lambda x: len(str(x).split(\" \")))\n",
    "train_data[['reviewText','word_count']].head()"
   ]
  },
  {
   "cell_type": "code",
   "execution_count": 10,
   "metadata": {
    "colab": {
     "base_uri": "https://localhost:8080/",
     "height": 382
    },
    "colab_type": "code",
    "id": "x7TK-RhPtfyY",
    "outputId": "bbf555c5-9d21-4bab-af1a-91083de4a626"
   },
   "outputs": [
    {
     "name": "stdout",
     "output_type": "stream",
     "text": [
      "Review length: \n",
      "Mean 102.33 words (135.718211)\n"
     ]
    },
    {
     "data": {
      "image/png": "[encoded data removed]",
      "text/plain": [
       "<matplotlib.figure.Figure at 0x7f1b477e4fd0>"
      ]
     },
     "metadata": {
      "tags": []
     },
     "output_type": "display_data"
    }
   ],
   "source": [
    "# Summarize review length\n",
    "print(\"Review length: \")\n",
    "result = [int(x) for x in train_data['word_count']]\n",
    "print(\"Mean %.2f words (%f)\" % (np.mean(result), np.std(result)))\n",
    "# plot review length\n",
    "plt.boxplot(result)\n",
    "plt.show()\n"
   ]
  },
  {
   "cell_type": "markdown",
   "metadata": {
    "colab_type": "text",
    "id": "XMCKYUZjuyes"
   },
   "source": [
    "We can see that the average review has just under 103 words with a standard deviation of just over 136 words.\n",
    "\n",
    " Looking a box and whisker plot for the review lengths in words, we can probably see an exponential distribution that we can probably cover the mass of the distribution with a clipped length of 4 to 250 words."
   ]
  },
  {
   "cell_type": "code",
   "execution_count": 11,
   "metadata": {
    "colab": {
     "base_uri": "https://localhost:8080/",
     "height": 202
    },
    "colab_type": "code",
    "id": "3rwy6Ho2uHBG",
    "outputId": "188becc1-3f1a-4806-8f74-ab4c00b452f1"
   },
   "outputs": [
    {
     "data": {
      "text/html": [
       "<div>\n",
       "<style scoped>\n",
       "    .dataframe tbody tr th:only-of-type {\n",
       "        vertical-align: middle;\n",
       "    }\n",
       "\n",
       "    .dataframe tbody tr th {\n",
       "        vertical-align: top;\n",
       "    }\n",
       "\n",
       "    .dataframe thead th {\n",
       "        text-align: right;\n",
       "    }\n",
       "</style>\n",
       "<table border=\"1\" class=\"dataframe\">\n",
       "  <thead>\n",
       "    <tr style=\"text-align: right;\">\n",
       "      <th></th>\n",
       "      <th>ID</th>\n",
       "      <th>reviewText</th>\n",
       "      <th>overall</th>\n",
       "      <th>word_count</th>\n",
       "    </tr>\n",
       "  </thead>\n",
       "  <tbody>\n",
       "    <tr>\n",
       "      <th>0</th>\n",
       "      <td>1</td>\n",
       "      <td>These are so wonderful to have in the car in t...</td>\n",
       "      <td>5</td>\n",
       "      <td>158</td>\n",
       "    </tr>\n",
       "    <tr>\n",
       "      <th>1</th>\n",
       "      <td>2</td>\n",
       "      <td>XL fits perfect on me over armored riding jack...</td>\n",
       "      <td>5</td>\n",
       "      <td>67</td>\n",
       "    </tr>\n",
       "    <tr>\n",
       "      <th>2</th>\n",
       "      <td>3</td>\n",
       "      <td>Since I had just noticed my wiper blades neede...</td>\n",
       "      <td>3</td>\n",
       "      <td>349</td>\n",
       "    </tr>\n",
       "    <tr>\n",
       "      <th>3</th>\n",
       "      <td>4</td>\n",
       "      <td>I am very satisfied with G110v2.  It is comfor...</td>\n",
       "      <td>5</td>\n",
       "      <td>210</td>\n",
       "    </tr>\n",
       "    <tr>\n",
       "      <th>4</th>\n",
       "      <td>5</td>\n",
       "      <td>This amp did a good job for its rating. It was...</td>\n",
       "      <td>3</td>\n",
       "      <td>30</td>\n",
       "    </tr>\n",
       "  </tbody>\n",
       "</table>\n",
       "</div>"
      ],
      "text/plain": [
       "   ID                                         reviewText  overall  word_count\n",
       "0   1  These are so wonderful to have in the car in t...        5         158\n",
       "1   2  XL fits perfect on me over armored riding jack...        5          67\n",
       "2   3  Since I had just noticed my wiper blades neede...        3         349\n",
       "3   4  I am very satisfied with G110v2.  It is comfor...        5         210\n",
       "4   5  This amp did a good job for its rating. It was...        3          30"
      ]
     },
     "execution_count": 11,
     "metadata": {
      "tags": []
     },
     "output_type": "execute_result"
    }
   ],
   "source": [
    "train_data.head()"
   ]
  },
  {
   "cell_type": "code",
   "execution_count": 0,
   "metadata": {
    "colab": {},
    "colab_type": "code",
    "id": "G6aSR1CmzX5z"
   },
   "outputs": [],
   "source": [
    "train_data.drop('word_count', axis=1, inplace=True)"
   ]
  },
  {
   "cell_type": "code",
   "execution_count": 13,
   "metadata": {
    "colab": {
     "base_uri": "https://localhost:8080/",
     "height": 35
    },
    "colab_type": "code",
    "id": "stP6Wknrzm8F",
    "outputId": "87136c45-88eb-4211-d1de-8836ef47a093"
   },
   "outputs": [
    {
     "data": {
      "text/plain": [
       "(77075, 3)"
      ]
     },
     "execution_count": 13,
     "metadata": {
      "tags": []
     },
     "output_type": "execute_result"
    }
   ],
   "source": [
    "train_data.shape"
   ]
  },
  {
   "cell_type": "code",
   "execution_count": 14,
   "metadata": {
    "colab": {
     "base_uri": "https://localhost:8080/",
     "height": 121
    },
    "colab_type": "code",
    "id": "t_P4pBiDy3No",
    "outputId": "7cdd491e-768f-40c9-b19e-9e59cc984080"
   },
   "outputs": [
    {
     "data": {
      "text/plain": [
       "5    46317\n",
       "4    16997\n",
       "3     7676\n",
       "2     3241\n",
       "1     2844\n",
       "Name: overall, dtype: int64"
      ]
     },
     "execution_count": 14,
     "metadata": {
      "tags": []
     },
     "output_type": "execute_result"
    }
   ],
   "source": [
    "train_data['overall'].value_counts()"
   ]
  },
  {
   "cell_type": "markdown",
   "metadata": {
    "colab_type": "text",
    "id": "i7iI7AIP0jlx"
   },
   "source": [
    "### _Consider the first ten thousand reviews"
   ]
  },
  {
   "cell_type": "code",
   "execution_count": 15,
   "metadata": {
    "colab": {
     "base_uri": "https://localhost:8080/",
     "height": 35
    },
    "colab_type": "code",
    "id": "F6oD63Nm0Vyh",
    "outputId": "b9a944cd-187d-496e-a7f3-99b0ea07ae44"
   },
   "outputs": [
    {
     "data": {
      "text/plain": [
       "(15000, 3)"
      ]
     },
     "execution_count": 15,
     "metadata": {
      "tags": []
     },
     "output_type": "execute_result"
    }
   ],
   "source": [
    "train_data_short=train_data[0:15000]\n",
    "train_data_short.shape"
   ]
  },
  {
   "cell_type": "code",
   "execution_count": 16,
   "metadata": {
    "colab": {
     "base_uri": "https://localhost:8080/",
     "height": 1127
    },
    "colab_type": "code",
    "id": "rFJiHMso0nyB",
    "outputId": "26172744-8822-4d1a-ebbc-7bd253da76c0"
   },
   "outputs": [
    {
     "name": "stdout",
     "output_type": "stream",
     "text": [
      "          ID                                         reviewText  overall\n",
      "0          1  These are so wonderful to have in the car in t...        5\n",
      "1          2  XL fits perfect on me over armored riding jack...        5\n",
      "2          3  Since I had just noticed my wiper blades neede...        3\n",
      "3          4  I am very satisfied with G110v2.  It is comfor...        5\n",
      "4          5  This amp did a good job for its rating. It was...        3\n",
      "5          6  Had flushed the water heater with just the gar...        5\n",
      "6          7  Lots of mixed reviews on this one but I though...        2\n",
      "7          8  This is without a doubt one of the top shows o...        5\n",
      "8          9  My Miata actually takes the HP-1008 which is s...        5\n",
      "9         10  Many think, especially those that have not see...        5\n",
      "10        11  Works great with my Baritone Ukulele.  Same qu...        5\n",
      "11        12  Had heard great things about this series and s...        5\n",
      "12        13  Zombies never watched a show on them before th...        5\n",
      "13        14  No more or less than expected. Good special ef...        3\n",
      "14        15  I bought these long ago, but just got to insta...        5\n",
      "15        16  I love Betas It was the best of all of the pil...        5\n",
      "16        17  The software installed fine.  I can read the e...        5\n",
      "17        18  I enjoyed watching Mark Taylor on Flashpoint. ...        5\n",
      "18        19  Per recommendation, it use it to do the cuttin...        5\n",
      "19        20  This series is loosely based on the Craig John...        4\n",
      "20        21  Perfect pedal. Easy to setup easy to use. It s...        5\n",
      "21        22  I guess the main thing I'd like in a hose is t...        3\n",
      "22        23  I installed this as an addition to a Python 99...        5\n",
      "23        24  We have a small mouse problem - once or twice ...        4\n",
      "24        25  But then after about 4 months of use, it just ...        2\n",
      "25        26  What's going to happen next .. In this season ...        5\n",
      "26        27  Best filter I have seen so far.  Ready many re...        5\n",
      "27        28  Honestly, I generally don't care for romances....        2\n",
      "28        29  If the rest of the episodes are as good as the...        5\n",
      "29        30  The cable came in the time it was promised. It...        5\n",
      "...      ...                                                ...      ...\n",
      "14970  14971  I LOVE these things! They look so good on my C...        5\n",
      "14971  14972  Bought one for my 04 GTO, it lasted about a ye...        1\n",
      "14972  14973                            STARTED GROWING CLOVER?        2\n",
      "14973  14974  I decided to get this tweed strap for my 50s T...        3\n",
      "14974  14975  This kit is a great value and super easy to us...        5\n",
      "14975  14976  The bottom subtitles blend in so much with the...        1\n",
      "14976  14977  These are a new style of guitar pick to me. Th...        3\n",
      "14977  14978  Good old fashioned western \\ mystery with a gr...        4\n",
      "14978  14979  Strings are not just strings. Guitar strings a...        5\n",
      "14979  14980  I used this clay to clean my wife's black SUV ...        4\n",
      "14980  14981  I did not buy the whole season. I missed one e...        5\n",
      "14981  14982  I purchased this to plug the receiver hole on ...        5\n",
      "14982  14983  Two major plotlines shape season three of Supe...        5\n",
      "14983  14984  Again these are mysteries that are amazing how...        5\n",
      "14984  14985  Haven is a strong show - 13 episodes set in Ha...        5\n",
      "14985  14986  I watch this series for its action and fantasy...        3\n",
      "14986  14987  An accurate reflection of the material culture...        5\n",
      "14987  14988  Who done it, Why is it being done, Where is it...        4\n",
      "14988  14989  Had a mouse in the garage that I wanted gone. ...        4\n",
      "14989  14990  We thought we had a rat in our barn, so this c...        2\n",
      "14990  14991  Among the many films that are released each ye...        4\n",
      "14991  14992  This is a nice, study brush that does a good j...        5\n",
      "14992  14993  Just keeps getting better.  Only one more seas...        5\n",
      "14993  14994  I don't find these plugs to be spectacular or ...        3\n",
      "14994  14995  I would never read this novel but I love the s...        5\n",
      "14995  14996  I got this item. It gets them back to new. And...        5\n",
      "14996  14997  This is no &#34;MURDER ONE, Season 1&#34;, but...        4\n",
      "14997  14998  I've used this Mityvac twice so far on my Merc...        4\n",
      "14998  14999  What can one say about a show that is so inven...        5\n",
      "14999  15000  Age appropriate cartoon packed with learning f...        4\n",
      "\n",
      "[15000 rows x 3 columns]\n"
     ]
    }
   ],
   "source": [
    "train_data_short.index=range(len(train_data_short.overall))\n",
    "print(train_data_short)"
   ]
  },
  {
   "cell_type": "code",
   "execution_count": 17,
   "metadata": {
    "colab": {
     "base_uri": "https://localhost:8080/",
     "height": 35
    },
    "colab_type": "code",
    "id": "dcwKB4P9093u",
    "outputId": "0df98115-358b-4b72-dd41-30e39f160a98"
   },
   "outputs": [
    {
     "name": "stdout",
     "output_type": "stream",
     "text": [
      "15000\n"
     ]
    }
   ],
   "source": [
    "num_review = train_data_short[\"reviewText\"].size\n",
    "\n",
    "print(num_review)\n"
   ]
  },
  {
   "cell_type": "code",
   "execution_count": 18,
   "metadata": {
    "colab": {
     "base_uri": "https://localhost:8080/",
     "height": 35
    },
    "colab_type": "code",
    "id": "OHCFLLKJAy1y",
    "outputId": "1a8788ac-7ffc-4cc2-ac73-611518eaff21"
   },
   "outputs": [
    {
     "name": "stdout",
     "output_type": "stream",
     "text": [
      "4057\n"
     ]
    }
   ],
   "source": [
    "num_reviews_test = test_data[\"reviewText\"].size\n",
    "\n",
    "print(num_reviews_test)\n"
   ]
  },
  {
   "cell_type": "code",
   "execution_count": 0,
   "metadata": {
    "colab": {},
    "colab_type": "code",
    "id": "Sz3PGJ9yCN8d"
   },
   "outputs": [],
   "source": [
    "cleanup_re = re.compile('[^a-z]+')\n",
    "def review_to_words( raw_review ):\n",
    "        \n",
    "    letters_only = re.sub(\"[^a-zA-Z]\", \" \", str(raw_review)) \n",
    "    words = letters_only.lower().split()                             \n",
    "    stops = set(stopwords.words(\"english\"))                   \n",
    "    meaningful_words = [w for w in words if not w in stops]\n",
    "    sentence =  \" \".join( meaningful_words )\n",
    "    sentence = str(sentence)\n",
    "    sentence = re.sub(r'\\s+',' ',sentence) #\\s is for white spaces\n",
    "    sentence = re.sub('[\\d]','',sentence)  #\\d is for digits\n",
    "    sentence = sentence.lower()\n",
    "    sentence = cleanup_re.sub(' ', sentence).strip()\n",
    "    #sentence = \" \".join(nltk.word_tokenize(sentence))\n",
    "    return sentence"
   ]
  },
  {
   "cell_type": "code",
   "execution_count": 40,
   "metadata": {
    "colab": {
     "base_uri": "https://localhost:8080/",
     "height": 55
    },
    "colab_type": "code",
    "id": "BWMyD_SaU1vT",
    "outputId": "07e83534-6deb-4a77-cecd-1987205cf2e7"
   },
   "outputs": [
    {
     "name": "stdout",
     "output_type": "stream",
     "text": [
      "['wonderful car winter getting one another color brand decided pick second blanket kids use traveling minnesota gets extremely cold everyone always fighting thermostat set travel electric blankets car everyone keep warm want blanket works well one gets warm fast works exactly like household electric blanket pleased well worked bought gifts people christmas year big one knew even made thing finally warm toasty want', 'xl fits perfect armored riding jacket lbs rush putting complainingabout ripping like others wear pants daily cool mornings never worry rain stay dry take time zip correctly velcro properly sinch needs sinched love mine days arrive ordering']\n"
     ]
    }
   ],
   "source": [
    "review_clean_train=[]\n",
    "\n",
    "# Loop over each review; create an index i that goes from 0 to the length\n",
    "# of the movie review list \n",
    "for i in range(num_review):\n",
    "    # Call our function for each one, and add the result to the list of\n",
    "    # clean reviews\n",
    "    review_clean_train.append(review_to_words(train_data['reviewText'][i]))\n",
    "\n",
    "# print(clean_reviews)\n",
    "\n",
    "print (review_clean_train[:2])"
   ]
  },
  {
   "cell_type": "code",
   "execution_count": 41,
   "metadata": {
    "colab": {
     "base_uri": "https://localhost:8080/",
     "height": 55
    },
    "colab_type": "code",
    "id": "uM1zZEDL1XcY",
    "outputId": "0bdb31de-06e8-4f15-f4a3-aed4ea13b231"
   },
   "outputs": [
    {
     "name": "stdout",
     "output_type": "stream",
     "text": [
      "idea gardening lots hanging baskets container plants patio enjoy soil perfect fairly lightweight like hauling backyard delivered near problem ithot might large bag soil ordered bags far container plants seem begrowing well hanging basket plants well another two weeks looking perfect andfull flowers nice could get delivered car therefore real problem getting plants soilhome use spring\n"
     ]
    }
   ],
   "source": [
    "# Initialize an empty list to hold the clean reviews\n",
    "\n",
    "review_clean_test=[]\n",
    "\n",
    "# Loop over each review; create an index i that goes from 0 to the length\n",
    "# of the movie review list \n",
    "for i in range(num_reviews_test):\n",
    "    # Call our function for each one, and add the result to the list of\n",
    "    # clean reviews\n",
    "    review_clean_test.append(review_to_words( test_data[\"reviewText\"][i] ))\n",
    "    \n",
    "\n",
    "#print(clean_reviews)\n",
    "\n",
    "print(review_clean_test[0])"
   ]
  },
  {
   "cell_type": "code",
   "execution_count": 0,
   "metadata": {
    "colab": {},
    "colab_type": "code",
    "id": "HvcYc0rFVXed"
   },
   "outputs": [],
   "source": [
    "labels_train = list(train_data['overall'].values)"
   ]
  },
  {
   "cell_type": "markdown",
   "metadata": {
    "colab_type": "text",
    "id": "eA2ILL_CVpcQ"
   },
   "source": [
    "**### Tokenization**"
   ]
  },
  {
   "cell_type": "code",
   "execution_count": 0,
   "metadata": {
    "colab": {},
    "colab_type": "code",
    "id": "9hefm2LaVY-2"
   },
   "outputs": [],
   "source": [
    "from nltk.tokenize import word_tokenize, sent_tokenize\n",
    "lmtzr=WordNetLemmatizer()\n"
   ]
  },
  {
   "cell_type": "code",
   "execution_count": 0,
   "metadata": {
    "colab": {},
    "colab_type": "code",
    "id": "faQBgeO6Vu-8"
   },
   "outputs": [],
   "source": [
    "def process_text(text):\n",
    "    from nltk.corpus import RegexpTokenizer as regextoken\n",
    "    from nltk.stem import WordNetLemmatizer\n",
    "    tokenizer = regextoken('\\w+') \n",
    "    stop=stopwords.words('english')\n",
    "    sentences = nltk.tokenize.sent_tokenize(text)\n",
    "    sentence_tokens = [tokenizer.tokenize(sentence) for sentence in sentences] # list of lists\n",
    "    tokens = [] # initialising variable\n",
    "    for sentence in sentence_tokens:\n",
    "        sent = []\n",
    "        for word in sentence:\n",
    "            if word.lower() not in stop:\n",
    "                sent.append(word.lower())\n",
    "        tokens.append(sent)\n",
    "    \n",
    "    ## THE SAME FOR LOOP CAN BE WRITTEN AS FOLLOWS\n",
    "    ## tokens = [[word.lower() for word in sent if word not in stop] for sent in sentence_tokens]\n",
    "    \n",
    "    tokens = [[lmtzr.lemmatize(word) for word in sent] for sent in tokens]\n",
    "    return tokens\n",
    "\n",
    "def process_ngrams(input_sentence_tokens):\n",
    "    ngram_list = []\n",
    "    for sentence in input_sentence_tokens:\n",
    "        ngram_sent = nltk.ngrams(sentence, 2)\n",
    "        ngram_list = ngram_list + list(ngram_sent)\n",
    "    return ngram_list"
   ]
  },
  {
   "cell_type": "code",
   "execution_count": 45,
   "metadata": {
    "colab": {
     "base_uri": "https://localhost:8080/",
     "height": 55
    },
    "colab_type": "code",
    "id": "3o8utdloVzih",
    "outputId": "5e1d796b-fcbb-4399-ccef-a642d928c4c2"
   },
   "outputs": [
    {
     "name": "stdout",
     "output_type": "stream",
     "text": [
      "[['xl', 'fit', 'perfect', 'armored', 'riding', 'jacket', 'lb', 'rush', 'putting', 'complainingabout', 'ripping', 'like', 'others', 'wear', 'pant', 'daily', 'cool', 'morning', 'never', 'worry', 'rain', 'stay', 'dry', 'take', 'time', 'zip', 'correctly', 'velcro', 'properly', 'sinch', 'need', 'sinched', 'love', 'mine', 'day', 'arrive', 'ordering']]\n"
     ]
    }
   ],
   "source": [
    "review_train=[]\n",
    "for i in range(0,num_review):\n",
    "    review_train.append(process_text(review_clean_train[i]))\n",
    "print(review_train[1])"
   ]
  },
  {
   "cell_type": "code",
   "execution_count": 0,
   "metadata": {
    "colab": {},
    "colab_type": "code",
    "id": "-5wyBqj3XeaM"
   },
   "outputs": [],
   "source": [
    "#ngrams_train=[]\n",
    "#for i in range(0,num_review):\n",
    " # ngrams_train.append(process_ngrams(review_train[i]))\n"
   ]
  },
  {
   "cell_type": "code",
   "execution_count": 27,
   "metadata": {
    "colab": {
     "base_uri": "https://localhost:8080/",
     "height": 1092
    },
    "colab_type": "code",
    "id": "NnMvLnLmYRUk",
    "outputId": "31fc36a2-594f-487e-afde-73f826557bf1"
   },
   "outputs": [
    {
     "data": {
      "text/plain": [
       "[[('wonderful', 'car'),\n",
       "  ('car', 'winter'),\n",
       "  ('winter', 'getting'),\n",
       "  ('getting', 'one'),\n",
       "  ('one', 'another'),\n",
       "  ('another', 'color'),\n",
       "  ('color', 'brand'),\n",
       "  ('brand', 'decided'),\n",
       "  ('decided', 'pick'),\n",
       "  ('pick', 'second'),\n",
       "  ('second', 'blanket'),\n",
       "  ('blanket', 'kid'),\n",
       "  ('kid', 'use'),\n",
       "  ('use', 'traveling'),\n",
       "  ('traveling', 'minnesota'),\n",
       "  ('minnesota', 'get'),\n",
       "  ('get', 'extremely'),\n",
       "  ('extremely', 'cold'),\n",
       "  ('cold', 'everyone'),\n",
       "  ('everyone', 'always'),\n",
       "  ('always', 'fighting'),\n",
       "  ('fighting', 'thermostat'),\n",
       "  ('thermostat', 'set'),\n",
       "  ('set', 'travel'),\n",
       "  ('travel', 'electric'),\n",
       "  ('electric', 'blanket'),\n",
       "  ('blanket', 'car'),\n",
       "  ('car', 'everyone'),\n",
       "  ('everyone', 'keep'),\n",
       "  ('keep', 'warm'),\n",
       "  ('warm', 'want'),\n",
       "  ('want', 'blanket'),\n",
       "  ('blanket', 'work'),\n",
       "  ('work', 'well'),\n",
       "  ('well', 'one'),\n",
       "  ('one', 'get'),\n",
       "  ('get', 'warm'),\n",
       "  ('warm', 'fast'),\n",
       "  ('fast', 'work'),\n",
       "  ('work', 'exactly'),\n",
       "  ('exactly', 'like'),\n",
       "  ('like', 'household'),\n",
       "  ('household', 'electric'),\n",
       "  ('electric', 'blanket'),\n",
       "  ('blanket', 'pleased'),\n",
       "  ('pleased', 'well'),\n",
       "  ('well', 'worked'),\n",
       "  ('worked', 'bought'),\n",
       "  ('bought', 'gift'),\n",
       "  ('gift', 'people'),\n",
       "  ('people', 'christmas'),\n",
       "  ('christmas', 'year'),\n",
       "  ('year', 'big'),\n",
       "  ('big', 'one'),\n",
       "  ('one', 'knew'),\n",
       "  ('knew', 'even'),\n",
       "  ('even', 'made'),\n",
       "  ('made', 'thing'),\n",
       "  ('thing', 'finally'),\n",
       "  ('finally', 'warm'),\n",
       "  ('warm', 'toasty'),\n",
       "  ('toasty', 'want')]]"
      ]
     },
     "execution_count": 27,
     "metadata": {
      "tags": []
     },
     "output_type": "execute_result"
    }
   ],
   "source": [
    "ngrams_train[0:1]"
   ]
  },
  {
   "cell_type": "code",
   "execution_count": 0,
   "metadata": {
    "colab": {},
    "colab_type": "code",
    "id": "5n8yKHbLYqrA"
   },
   "outputs": [],
   "source": []
  },
  {
   "cell_type": "code",
   "execution_count": 46,
   "metadata": {
    "colab": {
     "base_uri": "https://localhost:8080/",
     "height": 55
    },
    "colab_type": "code",
    "id": "MC-2ekX-WIXP",
    "outputId": "7527d627-fab9-4662-da66-eff1350270da"
   },
   "outputs": [
    {
     "name": "stdout",
     "output_type": "stream",
     "text": [
      "[['actually', 'sleek', 'looking', 'although', 'nerve', 'actually', 'stick', 'guitar', 'lot', 'easier', 'find', 'guitar', 'bag', 'even', 'room', 'stray', 'pick', 'hold', 'medium', 'size', 'pick', 'sure', 'lose', 'lot', 'le', 'pick', 'almost', 'kind', 'fun', 'putting', 'pick', 'thing', 'weird', 'say', 'buy', 'already']]\n"
     ]
    }
   ],
   "source": [
    "review_test=[]\n",
    "for i in range(0,num_reviews_test):\n",
    "    review_test.append(process_text(review_clean_test[i]))\n",
    "print(review_test[1])"
   ]
  },
  {
   "cell_type": "code",
   "execution_count": 47,
   "metadata": {
    "colab": {
     "base_uri": "https://localhost:8080/",
     "height": 55
    },
    "colab_type": "code",
    "id": "8VQdPYA-WNrz",
    "outputId": "68571832-6ba4-421d-81b5-094dd9fad9c6"
   },
   "outputs": [
    {
     "name": "stdout",
     "output_type": "stream",
     "text": [
      "xl fit perfect armored riding jacket lb rush putting complainingabout ripping like others wear pant daily cool morning never worry rain stay dry take time zip correctly velcro properly sinch need sinched love mine day arrive ordering\n"
     ]
    }
   ],
   "source": [
    "cleaned_review_train=[]\n",
    "for i in range(0,num_review):\n",
    "    cleaned_review_train.append(review_to_words(review_train[i]))\n",
    "print(cleaned_review_train[1])"
   ]
  },
  {
   "cell_type": "code",
   "execution_count": 48,
   "metadata": {
    "colab": {
     "base_uri": "https://localhost:8080/",
     "height": 55
    },
    "colab_type": "code",
    "id": "dAEbz60rekGs",
    "outputId": "2c574094-e934-4175-f5a1-c783949a6513"
   },
   "outputs": [
    {
     "name": "stdout",
     "output_type": "stream",
     "text": [
      "actually sleek looking although nerve actually stick guitar lot easier find guitar bag even room stray pick hold medium size pick sure lose lot le pick almost kind fun putting pick thing weird say buy already\n"
     ]
    }
   ],
   "source": [
    "cleaned_review_test=[]\n",
    "for i in range(0,num_reviews_test):\n",
    "    cleaned_review_test.append(review_to_words(review_test[i]))\n",
    "print(cleaned_review_test[1])"
   ]
  },
  {
   "cell_type": "code",
   "execution_count": 49,
   "metadata": {
    "colab": {
     "base_uri": "https://localhost:8080/",
     "height": 901
    },
    "colab_type": "code",
    "id": "0dQ1u1u6eoBe",
    "outputId": "7f37def2-3b9d-452b-d19e-e348081d112f"
   },
   "outputs": [
    {
     "name": "stdout",
     "output_type": "stream",
     "text": [
      "  (0, 782)\t0.1641429576944103\n",
      "  (0, 93)\t0.23892183880817325\n",
      "  (0, 774)\t0.17042311543277286\n",
      "  (0, 272)\t0.1304337818197428\n",
      "  (0, 467)\t0.21660878933056033\n",
      "  (0, 29)\t0.11901781748087169\n",
      "  (0, 122)\t0.15856427828475433\n",
      "  (0, 76)\t0.153992532464832\n",
      "  (0, 154)\t0.1582455965487011\n",
      "  (0, 494)\t0.14982429435761999\n",
      "  (0, 592)\t0.1347338115460644\n",
      "  (0, 355)\t0.14823449357858715\n",
      "  (0, 735)\t0.08835849058322265\n",
      "  (0, 271)\t0.16286393466283441\n",
      "  (0, 216)\t0.1702694527468025\n",
      "  (0, 121)\t0.18087819514346418\n",
      "  (0, 206)\t0.306337941096677\n",
      "  (0, 21)\t0.12030028216906849\n",
      "  (0, 602)\t0.12143183971140874\n",
      "  (0, 188)\t0.33696056286411963\n",
      "  (0, 351)\t0.1049222583848295\n",
      "  (0, 748)\t0.22336160060520655\n",
      "  (0, 785)\t0.1736709756452449\n",
      "  (0, 762)\t0.1627656635378633\n",
      "  (0, 226)\t0.1582455965487011\n",
      "  :\t:\n",
      "  (14997, 620)\t0.39922447971324115\n",
      "  (14997, 736)\t0.23707484149683145\n",
      "  (14997, 212)\t0.38780088946667296\n",
      "  (14997, 225)\t0.2758518755383896\n",
      "  (14997, 463)\t0.3642798291477393\n",
      "  (14997, 519)\t0.28955282752858813\n",
      "  (14997, 104)\t0.33428141091804386\n",
      "  (14998, 467)\t0.19540888380326601\n",
      "  (14998, 585)\t0.30960353126764467\n",
      "  (14998, 190)\t0.3138340954788131\n",
      "  (14998, 609)\t0.21982904477922965\n",
      "  (14998, 199)\t0.29244664383288926\n",
      "  (14998, 369)\t0.4411975501554672\n",
      "  (14998, 184)\t0.4536481862843332\n",
      "  (14998, 591)\t0.4828740813839993\n",
      "  (14999, 467)\t0.19354079385078624\n",
      "  (14999, 762)\t0.2181476280126431\n",
      "  (14999, 609)\t0.21772750045932684\n",
      "  (14999, 349)\t0.32477617198501124\n",
      "  (14999, 285)\t0.2102531761593719\n",
      "  (14999, 23)\t0.333581812456177\n",
      "  (14999, 522)\t0.4356759055033942\n",
      "  (14999, 170)\t0.34575949982618687\n",
      "  (14999, 386)\t0.265491903353086\n",
      "  (14999, 472)\t0.47616850628071516\n"
     ]
    }
   ],
   "source": [
    "from sklearn.feature_extraction.text import TfidfVectorizer\n",
    "\n",
    "sklearn_tfidf = TfidfVectorizer(norm='l2',min_df=0, smooth_idf=True, tokenizer=None, max_features=800)\n",
    "\n",
    "tfidf_train = sklearn_tfidf.fit_transform(cleaned_review_train)\n",
    "print(tfidf_train)"
   ]
  },
  {
   "cell_type": "code",
   "execution_count": 50,
   "metadata": {
    "colab": {
     "base_uri": "https://localhost:8080/",
     "height": 901
    },
    "colab_type": "code",
    "id": "EVcv6IYee4Sc",
    "outputId": "a41d644a-7efa-4cac-e5ad-4a23ec807a40"
   },
   "outputs": [
    {
     "name": "stdout",
     "output_type": "stream",
     "text": [
      "  (0, 333)\t0.12036590781201613\n",
      "  (0, 394)\t0.0913895262574381\n",
      "  (0, 299)\t0.2991310825186444\n",
      "  (0, 131)\t0.2991310825186444\n",
      "  (0, 495)\t0.5030113528414681\n",
      "  (0, 197)\t0.11314543097947619\n",
      "  (0, 625)\t0.3150637704386151\n",
      "  (0, 483)\t0.22073946928764007\n",
      "  (0, 223)\t0.137608039558776\n",
      "  (0, 380)\t0.06196257396837234\n",
      "  (0, 436)\t0.14292926990628876\n",
      "  (0, 521)\t0.1990707974520657\n",
      "  (0, 414)\t0.11218809509653657\n",
      "  (0, 361)\t0.12327751130593252\n",
      "  (0, 41)\t0.265653474240889\n",
      "  (0, 468)\t0.13720859331787533\n",
      "  (0, 228)\t0.09829003467856842\n",
      "  (0, 590)\t0.11096233274249098\n",
      "  (0, 763)\t0.1345410689267541\n",
      "  (0, 25)\t0.09924285920399566\n",
      "  (0, 726)\t0.08811737928334085\n",
      "  (0, 761)\t0.1139700251584788\n",
      "  (0, 392)\t0.10772016034414364\n",
      "  (0, 251)\t0.14196623438732536\n",
      "  (0, 444)\t0.09365658603556297\n",
      "  :\t:\n",
      "  (4055, 226)\t0.23371704514838518\n",
      "  (4055, 395)\t0.32159544130068163\n",
      "  (4055, 211)\t0.22311883862005613\n",
      "  (4055, 439)\t0.1715332264295966\n",
      "  (4055, 328)\t0.27135824845376344\n",
      "  (4055, 261)\t0.24548357891424993\n",
      "  (4055, 365)\t0.29020883092948385\n",
      "  (4055, 385)\t0.24646820659169283\n",
      "  (4056, 299)\t0.24448037572177397\n",
      "  (4056, 380)\t0.5064212397095741\n",
      "  (4056, 763)\t0.10996065940145748\n",
      "  (4056, 25)\t0.16222273728029382\n",
      "  (4056, 273)\t0.11059480548330844\n",
      "  (4056, 689)\t0.14926733556959895\n",
      "  (4056, 430)\t0.12817080575937564\n",
      "  (4056, 462)\t0.29564073057281387\n",
      "  (4056, 654)\t0.14821655326407582\n",
      "  (4056, 547)\t0.12506184848388363\n",
      "  (4056, 109)\t0.17717888355848585\n",
      "  (4056, 58)\t0.28498085814650687\n",
      "  (4056, 185)\t0.13945650308166518\n",
      "  (4056, 407)\t0.22428166383892548\n",
      "  (4056, 233)\t0.21144109294967836\n",
      "  (4056, 61)\t0.4278634425015483\n",
      "  (4056, 771)\t0.2434671726555309\n"
     ]
    }
   ],
   "source": [
    "tfidf_test = sklearn_tfidf.fit_transform(cleaned_review_test)\n",
    "print(tfidf_test)"
   ]
  },
  {
   "cell_type": "code",
   "execution_count": 51,
   "metadata": {
    "colab": {
     "base_uri": "https://localhost:8080/",
     "height": 35
    },
    "colab_type": "code",
    "id": "dHgd77-le9Kb",
    "outputId": "66eaa72e-9fb6-4b61-f4c8-75c24257ce2b"
   },
   "outputs": [
    {
     "data": {
      "text/plain": [
       "scipy.sparse.csr.csr_matrix"
      ]
     },
     "execution_count": 51,
     "metadata": {
      "tags": []
     },
     "output_type": "execute_result"
    }
   ],
   "source": [
    "type(tfidf_train)\n",
    "type(tfidf_test)"
   ]
  },
  {
   "cell_type": "code",
   "execution_count": 52,
   "metadata": {
    "colab": {
     "base_uri": "https://localhost:8080/",
     "height": 35
    },
    "colab_type": "code",
    "id": "v5IrwplJfigJ",
    "outputId": "72720524-3bc8-458d-c7f3-9f2211afedc4"
   },
   "outputs": [
    {
     "data": {
      "text/plain": [
       "(15000, 800)"
      ]
     },
     "execution_count": 52,
     "metadata": {
      "tags": []
     },
     "output_type": "execute_result"
    }
   ],
   "source": [
    "tfidf_train.shape"
   ]
  },
  {
   "cell_type": "code",
   "execution_count": 53,
   "metadata": {
    "colab": {
     "base_uri": "https://localhost:8080/",
     "height": 35
    },
    "colab_type": "code",
    "id": "XnLI8nujfnnI",
    "outputId": "8e20643c-5382-44cc-8889-4310dc7ccf24"
   },
   "outputs": [
    {
     "data": {
      "text/plain": [
       "(4057, 800)"
      ]
     },
     "execution_count": 53,
     "metadata": {
      "tags": []
     },
     "output_type": "execute_result"
    }
   ],
   "source": [
    "tfidf_test.shape"
   ]
  },
  {
   "cell_type": "code",
   "execution_count": 54,
   "metadata": {
    "colab": {
     "base_uri": "https://localhost:8080/",
     "height": 35
    },
    "colab_type": "code",
    "id": "RMHsKEG2fxHr",
    "outputId": "37612235-6a0d-447c-ae76-2eebbe8dfaca"
   },
   "outputs": [
    {
     "data": {
      "text/plain": [
       "numpy.matrixlib.defmatrix.matrix"
      ]
     },
     "execution_count": 54,
     "metadata": {
      "tags": []
     },
     "output_type": "execute_result"
    }
   ],
   "source": [
    "Dense_mat_train = tfidf_train.todense()\n",
    "\n",
    "type(Dense_mat_train)"
   ]
  },
  {
   "cell_type": "code",
   "execution_count": 55,
   "metadata": {
    "colab": {
     "base_uri": "https://localhost:8080/",
     "height": 35
    },
    "colab_type": "code",
    "id": "Cuu5qDSof4ZW",
    "outputId": "35d55b24-d9c1-4a38-c136-c40ef98b17ef"
   },
   "outputs": [
    {
     "data": {
      "text/plain": [
       "numpy.matrixlib.defmatrix.matrix"
      ]
     },
     "execution_count": 55,
     "metadata": {
      "tags": []
     },
     "output_type": "execute_result"
    }
   ],
   "source": [
    "Dense_mat_test =tfidf_test.todense()\n",
    "\n",
    "type(Dense_mat_test)"
   ]
  },
  {
   "cell_type": "code",
   "execution_count": 56,
   "metadata": {
    "colab": {
     "base_uri": "https://localhost:8080/",
     "height": 35
    },
    "colab_type": "code",
    "id": "STQqcqXDgFZb",
    "outputId": "26945982-7f47-40fe-9b02-c557e958700d"
   },
   "outputs": [
    {
     "data": {
      "text/plain": [
       "800"
      ]
     },
     "execution_count": 56,
     "metadata": {
      "tags": []
     },
     "output_type": "execute_result"
    }
   ],
   "source": [
    "len(sklearn_tfidf.get_feature_names())"
   ]
  },
  {
   "cell_type": "code",
   "execution_count": 0,
   "metadata": {
    "colab": {},
    "colab_type": "code",
    "id": "z1CYTmUdhAIz"
   },
   "outputs": [],
   "source": []
  },
  {
   "cell_type": "markdown",
   "metadata": {
    "colab_type": "text",
    "id": "JL9kbBuIi6Bs"
   },
   "source": [
    "A.shape"
   ]
  },
  {
   "cell_type": "code",
   "execution_count": 57,
   "metadata": {
    "colab": {
     "base_uri": "https://localhost:8080/",
     "height": 251
    },
    "colab_type": "code",
    "id": "v__TzD9zgjOg",
    "outputId": "fa049fba-0e40-447f-df74-2fab940a9d00"
   },
   "outputs": [
    {
     "data": {
      "text/html": [
       "<div>\n",
       "<style scoped>\n",
       "    .dataframe tbody tr th:only-of-type {\n",
       "        vertical-align: middle;\n",
       "    }\n",
       "\n",
       "    .dataframe tbody tr th {\n",
       "        vertical-align: top;\n",
       "    }\n",
       "\n",
       "    .dataframe thead th {\n",
       "        text-align: right;\n",
       "    }\n",
       "</style>\n",
       "<table border=\"1\" class=\"dataframe\">\n",
       "  <thead>\n",
       "    <tr style=\"text-align: right;\">\n",
       "      <th></th>\n",
       "      <th>able</th>\n",
       "      <th>absolutely</th>\n",
       "      <th>acoustic</th>\n",
       "      <th>acting</th>\n",
       "      <th>action</th>\n",
       "      <th>actor</th>\n",
       "      <th>actually</th>\n",
       "      <th>adapter</th>\n",
       "      <th>add</th>\n",
       "      <th>added</th>\n",
       "      <th>...</th>\n",
       "      <th>would</th>\n",
       "      <th>writer</th>\n",
       "      <th>writing</th>\n",
       "      <th>written</th>\n",
       "      <th>wrong</th>\n",
       "      <th>yard</th>\n",
       "      <th>year</th>\n",
       "      <th>yes</th>\n",
       "      <th>yet</th>\n",
       "      <th>young</th>\n",
       "    </tr>\n",
       "  </thead>\n",
       "  <tbody>\n",
       "    <tr>\n",
       "      <th>0</th>\n",
       "      <td>0.0</td>\n",
       "      <td>0.0</td>\n",
       "      <td>0.0</td>\n",
       "      <td>0.0</td>\n",
       "      <td>0.0</td>\n",
       "      <td>0.000000</td>\n",
       "      <td>0.0</td>\n",
       "      <td>0.000000</td>\n",
       "      <td>0.000000</td>\n",
       "      <td>0.0</td>\n",
       "      <td>...</td>\n",
       "      <td>0.000000</td>\n",
       "      <td>0.0</td>\n",
       "      <td>0.0</td>\n",
       "      <td>0.0</td>\n",
       "      <td>0.0</td>\n",
       "      <td>0.0</td>\n",
       "      <td>0.103452</td>\n",
       "      <td>0.0</td>\n",
       "      <td>0.0</td>\n",
       "      <td>0.0</td>\n",
       "    </tr>\n",
       "    <tr>\n",
       "      <th>1</th>\n",
       "      <td>0.0</td>\n",
       "      <td>0.0</td>\n",
       "      <td>0.0</td>\n",
       "      <td>0.0</td>\n",
       "      <td>0.0</td>\n",
       "      <td>0.000000</td>\n",
       "      <td>0.0</td>\n",
       "      <td>0.000000</td>\n",
       "      <td>0.000000</td>\n",
       "      <td>0.0</td>\n",
       "      <td>...</td>\n",
       "      <td>0.000000</td>\n",
       "      <td>0.0</td>\n",
       "      <td>0.0</td>\n",
       "      <td>0.0</td>\n",
       "      <td>0.0</td>\n",
       "      <td>0.0</td>\n",
       "      <td>0.000000</td>\n",
       "      <td>0.0</td>\n",
       "      <td>0.0</td>\n",
       "      <td>0.0</td>\n",
       "    </tr>\n",
       "    <tr>\n",
       "      <th>2</th>\n",
       "      <td>0.0</td>\n",
       "      <td>0.0</td>\n",
       "      <td>0.0</td>\n",
       "      <td>0.0</td>\n",
       "      <td>0.0</td>\n",
       "      <td>0.053402</td>\n",
       "      <td>0.0</td>\n",
       "      <td>0.047512</td>\n",
       "      <td>0.329453</td>\n",
       "      <td>0.0</td>\n",
       "      <td>...</td>\n",
       "      <td>0.061922</td>\n",
       "      <td>0.0</td>\n",
       "      <td>0.0</td>\n",
       "      <td>0.0</td>\n",
       "      <td>0.0</td>\n",
       "      <td>0.0</td>\n",
       "      <td>0.037093</td>\n",
       "      <td>0.0</td>\n",
       "      <td>0.0</td>\n",
       "      <td>0.0</td>\n",
       "    </tr>\n",
       "    <tr>\n",
       "      <th>3</th>\n",
       "      <td>0.0</td>\n",
       "      <td>0.0</td>\n",
       "      <td>0.0</td>\n",
       "      <td>0.0</td>\n",
       "      <td>0.0</td>\n",
       "      <td>0.088173</td>\n",
       "      <td>0.0</td>\n",
       "      <td>0.000000</td>\n",
       "      <td>0.000000</td>\n",
       "      <td>0.0</td>\n",
       "      <td>...</td>\n",
       "      <td>0.051120</td>\n",
       "      <td>0.0</td>\n",
       "      <td>0.0</td>\n",
       "      <td>0.0</td>\n",
       "      <td>0.0</td>\n",
       "      <td>0.0</td>\n",
       "      <td>0.000000</td>\n",
       "      <td>0.0</td>\n",
       "      <td>0.0</td>\n",
       "      <td>0.0</td>\n",
       "    </tr>\n",
       "    <tr>\n",
       "      <th>4</th>\n",
       "      <td>0.0</td>\n",
       "      <td>0.0</td>\n",
       "      <td>0.0</td>\n",
       "      <td>0.0</td>\n",
       "      <td>0.0</td>\n",
       "      <td>0.000000</td>\n",
       "      <td>0.0</td>\n",
       "      <td>0.000000</td>\n",
       "      <td>0.000000</td>\n",
       "      <td>0.0</td>\n",
       "      <td>...</td>\n",
       "      <td>0.000000</td>\n",
       "      <td>0.0</td>\n",
       "      <td>0.0</td>\n",
       "      <td>0.0</td>\n",
       "      <td>0.0</td>\n",
       "      <td>0.0</td>\n",
       "      <td>0.238344</td>\n",
       "      <td>0.0</td>\n",
       "      <td>0.0</td>\n",
       "      <td>0.0</td>\n",
       "    </tr>\n",
       "  </tbody>\n",
       "</table>\n",
       "<p>5 rows × 800 columns</p>\n",
       "</div>"
      ],
      "text/plain": [
       "   able  absolutely  acoustic  acting  action     actor  actually   adapter  \\\n",
       "0   0.0         0.0       0.0     0.0     0.0  0.000000       0.0  0.000000   \n",
       "1   0.0         0.0       0.0     0.0     0.0  0.000000       0.0  0.000000   \n",
       "2   0.0         0.0       0.0     0.0     0.0  0.053402       0.0  0.047512   \n",
       "3   0.0         0.0       0.0     0.0     0.0  0.088173       0.0  0.000000   \n",
       "4   0.0         0.0       0.0     0.0     0.0  0.000000       0.0  0.000000   \n",
       "\n",
       "        add  added  ...       would  writer  writing  written  wrong  yard  \\\n",
       "0  0.000000    0.0  ...    0.000000     0.0      0.0      0.0    0.0   0.0   \n",
       "1  0.000000    0.0  ...    0.000000     0.0      0.0      0.0    0.0   0.0   \n",
       "2  0.329453    0.0  ...    0.061922     0.0      0.0      0.0    0.0   0.0   \n",
       "3  0.000000    0.0  ...    0.051120     0.0      0.0      0.0    0.0   0.0   \n",
       "4  0.000000    0.0  ...    0.000000     0.0      0.0      0.0    0.0   0.0   \n",
       "\n",
       "       year  yes  yet  young  \n",
       "0  0.103452  0.0  0.0    0.0  \n",
       "1  0.000000  0.0  0.0    0.0  \n",
       "2  0.037093  0.0  0.0    0.0  \n",
       "3  0.000000  0.0  0.0    0.0  \n",
       "4  0.238344  0.0  0.0    0.0  \n",
       "\n",
       "[5 rows x 800 columns]"
      ]
     },
     "execution_count": 57,
     "metadata": {
      "tags": []
     },
     "output_type": "execute_result"
    }
   ],
   "source": [
    "#Lets consider TF-idf\n",
    "Dense_mat_train = tfidf_train.todense()\n",
    "A = pd.DataFrame(Dense_mat_train, columns=sklearn_tfidf.get_feature_names())\n",
    "A.shape\n",
    "A.head()\n",
    "\n",
    "\n",
    "\n"
   ]
  },
  {
   "cell_type": "code",
   "execution_count": 0,
   "metadata": {
    "colab": {},
    "colab_type": "code",
    "id": "VjDUmOYPYnSC"
   },
   "outputs": [],
   "source": [
    "# Numpy arrays are easy to work with, so convert the result to an array\n",
    "data_features = tfidf_train.toarray()\n",
    "#print(data_features)"
   ]
  },
  {
   "cell_type": "code",
   "execution_count": 60,
   "metadata": {
    "colab": {
     "base_uri": "https://localhost:8080/",
     "height": 4091
    },
    "colab_type": "code",
    "id": "5lBiaU-JYwlF",
    "outputId": "07edac13-1c49-40e5-fa2f-b1f7d279d9e1"
   },
   "outputs": [
    {
     "name": "stdout",
     "output_type": "stream",
     "text": [
      "       0    1        2         3         4         5         6         7    \\\n",
      "0      0.0  0.0  0.00000  0.000000  0.000000  0.000000  0.000000  0.000000   \n",
      "1      0.0  0.0  0.00000  0.000000  0.000000  0.000000  0.000000  0.000000   \n",
      "2      0.0  0.0  0.00000  0.000000  0.000000  0.053402  0.000000  0.047512   \n",
      "3      0.0  0.0  0.00000  0.000000  0.000000  0.088173  0.000000  0.000000   \n",
      "4      0.0  0.0  0.00000  0.000000  0.000000  0.000000  0.000000  0.000000   \n",
      "5      0.0  0.0  0.00000  0.000000  0.000000  0.000000  0.000000  0.229348   \n",
      "6      0.0  0.0  0.00000  0.000000  0.000000  0.000000  0.000000  0.000000   \n",
      "7      0.0  0.0  0.00000  0.280118  0.213169  0.000000  0.000000  0.000000   \n",
      "8      0.0  0.0  0.00000  0.000000  0.000000  0.000000  0.000000  0.187158   \n",
      "9      0.0  0.0  0.00000  0.000000  0.000000  0.000000  0.000000  0.000000   \n",
      "10     0.0  0.0  0.43284  0.000000  0.000000  0.000000  0.000000  0.000000   \n",
      "11     0.0  0.0  0.00000  0.000000  0.208956  0.000000  0.000000  0.000000   \n",
      "12     0.0  0.0  0.00000  0.000000  0.000000  0.000000  0.000000  0.000000   \n",
      "13     0.0  0.0  0.00000  0.000000  0.000000  0.000000  0.000000  0.000000   \n",
      "14     0.0  0.0  0.00000  0.000000  0.000000  0.000000  0.000000  0.000000   \n",
      "15     0.0  0.0  0.00000  0.000000  0.000000  0.000000  0.000000  0.000000   \n",
      "16     0.0  0.0  0.00000  0.000000  0.000000  0.000000  0.000000  0.000000   \n",
      "17     0.0  0.0  0.00000  0.000000  0.000000  0.000000  0.000000  0.000000   \n",
      "18     0.0  0.0  0.00000  0.000000  0.000000  0.000000  0.000000  0.000000   \n",
      "19     0.0  0.0  0.00000  0.000000  0.000000  0.000000  0.000000  0.000000   \n",
      "20     0.0  0.0  0.00000  0.000000  0.000000  0.000000  0.000000  0.000000   \n",
      "21     0.0  0.0  0.00000  0.000000  0.000000  0.000000  0.000000  0.000000   \n",
      "22     0.0  0.0  0.00000  0.000000  0.000000  0.000000  0.000000  0.000000   \n",
      "23     0.0  0.0  0.00000  0.000000  0.000000  0.000000  0.000000  0.053840   \n",
      "24     0.0  0.0  0.00000  0.000000  0.000000  0.000000  0.000000  0.000000   \n",
      "25     0.0  0.0  0.00000  0.000000  0.000000  0.000000  0.000000  0.000000   \n",
      "26     0.0  0.0  0.00000  0.000000  0.000000  0.000000  0.000000  0.000000   \n",
      "27     0.0  0.0  0.00000  0.000000  0.000000  0.000000  0.000000  0.000000   \n",
      "28     0.0  0.0  0.00000  0.000000  0.000000  0.000000  0.000000  0.000000   \n",
      "29     0.0  0.0  0.00000  0.000000  0.000000  0.000000  0.000000  0.000000   \n",
      "...    ...  ...      ...       ...       ...       ...       ...       ...   \n",
      "14970  0.0  0.0  0.00000  0.000000  0.000000  0.000000  0.000000  0.000000   \n",
      "14971  0.0  0.0  0.00000  0.000000  0.000000  0.000000  0.000000  0.000000   \n",
      "14972  0.0  0.0  0.00000  0.000000  0.000000  0.000000  0.000000  0.000000   \n",
      "14973  0.0  0.0  0.00000  0.000000  0.000000  0.000000  0.000000  0.000000   \n",
      "14974  0.0  0.0  0.00000  0.000000  0.000000  0.000000  0.000000  0.000000   \n",
      "14975  0.0  0.0  0.00000  0.000000  0.000000  0.000000  0.000000  0.000000   \n",
      "14976  0.0  0.0  0.00000  0.000000  0.000000  0.000000  0.000000  0.000000   \n",
      "14977  0.0  0.0  0.00000  0.000000  0.000000  0.000000  0.000000  0.000000   \n",
      "14978  0.0  0.0  0.00000  0.000000  0.000000  0.000000  0.000000  0.000000   \n",
      "14979  0.0  0.0  0.00000  0.000000  0.000000  0.000000  0.000000  0.000000   \n",
      "14980  0.0  0.0  0.00000  0.000000  0.000000  0.000000  0.000000  0.000000   \n",
      "14981  0.0  0.0  0.00000  0.000000  0.000000  0.000000  0.000000  0.000000   \n",
      "14982  0.0  0.0  0.00000  0.000000  0.000000  0.000000  0.000000  0.000000   \n",
      "14983  0.0  0.0  0.00000  0.000000  0.000000  0.000000  0.000000  0.000000   \n",
      "14984  0.0  0.0  0.00000  0.000000  0.000000  0.000000  0.000000  0.000000   \n",
      "14985  0.0  0.0  0.00000  0.000000  0.000000  0.173652  0.000000  0.000000   \n",
      "14986  0.0  0.0  0.00000  0.000000  0.000000  0.378145  0.000000  0.000000   \n",
      "14987  0.0  0.0  0.00000  0.000000  0.000000  0.000000  0.000000  0.000000   \n",
      "14988  0.0  0.0  0.00000  0.000000  0.000000  0.000000  0.000000  0.000000   \n",
      "14989  0.0  0.0  0.00000  0.000000  0.000000  0.000000  0.000000  0.000000   \n",
      "14990  0.0  0.0  0.00000  0.000000  0.000000  0.000000  0.033742  0.000000   \n",
      "14991  0.0  0.0  0.00000  0.000000  0.000000  0.000000  0.000000  0.000000   \n",
      "14992  0.0  0.0  0.00000  0.000000  0.000000  0.000000  0.000000  0.000000   \n",
      "14993  0.0  0.0  0.00000  0.000000  0.000000  0.000000  0.000000  0.000000   \n",
      "14994  0.0  0.0  0.00000  0.000000  0.000000  0.000000  0.000000  0.000000   \n",
      "14995  0.0  0.0  0.00000  0.000000  0.000000  0.000000  0.000000  0.000000   \n",
      "14996  0.0  0.0  0.00000  0.000000  0.000000  0.000000  0.000000  0.000000   \n",
      "14997  0.0  0.0  0.00000  0.000000  0.000000  0.000000  0.000000  0.000000   \n",
      "14998  0.0  0.0  0.00000  0.000000  0.000000  0.000000  0.000000  0.000000   \n",
      "14999  0.0  0.0  0.00000  0.000000  0.000000  0.000000  0.000000  0.000000   \n",
      "\n",
      "            8    9      ...          790       791  792  793       794  795  \\\n",
      "0      0.000000  0.0    ...     0.000000  0.000000  0.0  0.0  0.000000  0.0   \n",
      "1      0.000000  0.0    ...     0.000000  0.000000  0.0  0.0  0.000000  0.0   \n",
      "2      0.329453  0.0    ...     0.061922  0.000000  0.0  0.0  0.000000  0.0   \n",
      "3      0.000000  0.0    ...     0.051120  0.000000  0.0  0.0  0.000000  0.0   \n",
      "4      0.000000  0.0    ...     0.000000  0.000000  0.0  0.0  0.000000  0.0   \n",
      "5      0.000000  0.0    ...     0.000000  0.000000  0.0  0.0  0.000000  0.0   \n",
      "6      0.000000  0.0    ...     0.162322  0.000000  0.0  0.0  0.000000  0.0   \n",
      "7      0.000000  0.0    ...     0.000000  0.000000  0.0  0.0  0.000000  0.0   \n",
      "8      0.000000  0.0    ...     0.000000  0.000000  0.0  0.0  0.000000  0.0   \n",
      "9      0.000000  0.0    ...     0.000000  0.000000  0.0  0.0  0.000000  0.0   \n",
      "10     0.000000  0.0    ...     0.000000  0.000000  0.0  0.0  0.000000  0.0   \n",
      "11     0.000000  0.0    ...     0.000000  0.000000  0.0  0.0  0.000000  0.0   \n",
      "12     0.000000  0.0    ...     0.000000  0.000000  0.0  0.0  0.000000  0.0   \n",
      "13     0.000000  0.0    ...     0.000000  0.000000  0.0  0.0  0.000000  0.0   \n",
      "14     0.000000  0.0    ...     0.000000  0.000000  0.0  0.0  0.000000  0.0   \n",
      "15     0.000000  0.0    ...     0.000000  0.000000  0.0  0.0  0.000000  0.0   \n",
      "16     0.000000  0.0    ...     0.000000  0.000000  0.0  0.0  0.000000  0.0   \n",
      "17     0.000000  0.0    ...     0.000000  0.000000  0.0  0.0  0.448741  0.0   \n",
      "18     0.000000  0.0    ...     0.000000  0.000000  0.0  0.0  0.000000  0.0   \n",
      "19     0.000000  0.0    ...     0.000000  0.000000  0.0  0.0  0.000000  0.0   \n",
      "20     0.000000  0.0    ...     0.000000  0.000000  0.0  0.0  0.000000  0.0   \n",
      "21     0.000000  0.0    ...     0.071287  0.000000  0.0  0.0  0.000000  0.0   \n",
      "22     0.000000  0.0    ...     0.000000  0.000000  0.0  0.0  0.000000  0.0   \n",
      "23     0.000000  0.0    ...     0.000000  0.000000  0.0  0.0  0.000000  0.0   \n",
      "24     0.000000  0.0    ...     0.282384  0.000000  0.0  0.0  0.000000  0.0   \n",
      "25     0.000000  0.0    ...     0.000000  0.000000  0.0  0.0  0.000000  0.0   \n",
      "26     0.000000  0.0    ...     0.000000  0.000000  0.0  0.0  0.131835  0.0   \n",
      "27     0.000000  0.0    ...     0.000000  0.000000  0.0  0.0  0.000000  0.0   \n",
      "28     0.000000  0.0    ...     0.000000  0.000000  0.0  0.0  0.000000  0.0   \n",
      "29     0.000000  0.0    ...     0.000000  0.000000  0.0  0.0  0.000000  0.0   \n",
      "...         ...  ...    ...          ...       ...  ...  ...       ...  ...   \n",
      "14970  0.000000  0.0    ...     0.000000  0.000000  0.0  0.0  0.000000  0.0   \n",
      "14971  0.000000  0.0    ...     0.000000  0.000000  0.0  0.0  0.000000  0.0   \n",
      "14972  0.000000  0.0    ...     0.000000  0.000000  0.0  0.0  0.000000  0.0   \n",
      "14973  0.000000  0.0    ...     0.000000  0.000000  0.0  0.0  0.000000  0.0   \n",
      "14974  0.000000  0.0    ...     0.000000  0.000000  0.0  0.0  0.000000  0.0   \n",
      "14975  0.000000  0.0    ...     0.000000  0.000000  0.0  0.0  0.000000  0.0   \n",
      "14976  0.000000  0.0    ...     0.000000  0.000000  0.0  0.0  0.000000  0.0   \n",
      "14977  0.000000  0.0    ...     0.000000  0.000000  0.0  0.0  0.000000  0.0   \n",
      "14978  0.000000  0.0    ...     0.000000  0.000000  0.0  0.0  0.000000  0.0   \n",
      "14979  0.000000  0.0    ...     0.000000  0.000000  0.0  0.0  0.000000  0.0   \n",
      "14980  0.000000  0.0    ...     0.000000  0.000000  0.0  0.0  0.000000  0.0   \n",
      "14981  0.000000  0.0    ...     0.000000  0.000000  0.0  0.0  0.000000  0.0   \n",
      "14982  0.000000  0.0    ...     0.061684  0.163833  0.0  0.0  0.000000  0.0   \n",
      "14983  0.000000  0.0    ...     0.000000  0.000000  0.0  0.0  0.000000  0.0   \n",
      "14984  0.000000  0.0    ...     0.143177  0.253520  0.0  0.0  0.000000  0.0   \n",
      "14985  0.000000  0.0    ...     0.201356  0.000000  0.0  0.0  0.000000  0.0   \n",
      "14986  0.000000  0.0    ...     0.000000  0.000000  0.0  0.0  0.000000  0.0   \n",
      "14987  0.000000  0.0    ...     0.000000  0.000000  0.0  0.0  0.000000  0.0   \n",
      "14988  0.000000  0.0    ...     0.133740  0.000000  0.0  0.0  0.000000  0.0   \n",
      "14989  0.000000  0.0    ...     0.033933  0.000000  0.0  0.0  0.000000  0.0   \n",
      "14990  0.000000  0.0    ...     0.000000  0.075907  0.0  0.0  0.000000  0.0   \n",
      "14991  0.000000  0.0    ...     0.000000  0.000000  0.0  0.0  0.000000  0.0   \n",
      "14992  0.000000  0.0    ...     0.000000  0.000000  0.0  0.0  0.000000  0.0   \n",
      "14993  0.000000  0.0    ...     0.000000  0.000000  0.0  0.0  0.000000  0.0   \n",
      "14994  0.000000  0.0    ...     0.110360  0.000000  0.0  0.0  0.000000  0.0   \n",
      "14995  0.000000  0.0    ...     0.000000  0.000000  0.0  0.0  0.000000  0.0   \n",
      "14996  0.000000  0.0    ...     0.000000  0.000000  0.0  0.0  0.000000  0.0   \n",
      "14997  0.000000  0.0    ...     0.000000  0.000000  0.0  0.0  0.000000  0.0   \n",
      "14998  0.000000  0.0    ...     0.000000  0.000000  0.0  0.0  0.000000  0.0   \n",
      "14999  0.000000  0.0    ...     0.000000  0.000000  0.0  0.0  0.000000  0.0   \n",
      "\n",
      "            796       797       798       799  \n",
      "0      0.103452  0.000000  0.000000  0.000000  \n",
      "1      0.000000  0.000000  0.000000  0.000000  \n",
      "2      0.037093  0.000000  0.000000  0.000000  \n",
      "3      0.000000  0.000000  0.000000  0.000000  \n",
      "4      0.238344  0.000000  0.000000  0.000000  \n",
      "5      0.000000  0.000000  0.000000  0.000000  \n",
      "6      0.000000  0.000000  0.000000  0.000000  \n",
      "7      0.000000  0.000000  0.000000  0.000000  \n",
      "8      0.146113  0.000000  0.000000  0.000000  \n",
      "9      0.140232  0.000000  0.000000  0.223019  \n",
      "10     0.000000  0.000000  0.000000  0.000000  \n",
      "11     0.000000  0.000000  0.000000  0.000000  \n",
      "12     0.000000  0.000000  0.000000  0.000000  \n",
      "13     0.000000  0.288474  0.000000  0.000000  \n",
      "14     0.000000  0.000000  0.000000  0.000000  \n",
      "15     0.000000  0.000000  0.000000  0.000000  \n",
      "16     0.000000  0.000000  0.000000  0.000000  \n",
      "17     0.000000  0.000000  0.000000  0.000000  \n",
      "18     0.000000  0.000000  0.000000  0.000000  \n",
      "19     0.000000  0.000000  0.000000  0.000000  \n",
      "20     0.000000  0.000000  0.000000  0.000000  \n",
      "21     0.085405  0.000000  0.000000  0.000000  \n",
      "22     0.000000  0.000000  0.000000  0.000000  \n",
      "23     0.042033  0.000000  0.054294  0.000000  \n",
      "24     0.000000  0.000000  0.000000  0.000000  \n",
      "25     0.000000  0.000000  0.000000  0.000000  \n",
      "26     0.000000  0.000000  0.000000  0.000000  \n",
      "27     0.169188  0.000000  0.000000  0.000000  \n",
      "28     0.000000  0.000000  0.000000  0.000000  \n",
      "29     0.000000  0.000000  0.000000  0.000000  \n",
      "...         ...       ...       ...       ...  \n",
      "14970  0.000000  0.000000  0.000000  0.000000  \n",
      "14971  0.303968  0.000000  0.000000  0.000000  \n",
      "14972  0.000000  0.000000  0.000000  0.000000  \n",
      "14973  0.000000  0.000000  0.000000  0.000000  \n",
      "14974  0.000000  0.000000  0.000000  0.000000  \n",
      "14975  0.000000  0.000000  0.000000  0.000000  \n",
      "14976  0.000000  0.000000  0.000000  0.000000  \n",
      "14977  0.000000  0.000000  0.000000  0.000000  \n",
      "14978  0.000000  0.000000  0.000000  0.000000  \n",
      "14979  0.145407  0.000000  0.000000  0.000000  \n",
      "14980  0.000000  0.000000  0.000000  0.000000  \n",
      "14981  0.000000  0.000000  0.000000  0.000000  \n",
      "14982  0.036950  0.000000  0.000000  0.000000  \n",
      "14983  0.000000  0.000000  0.000000  0.000000  \n",
      "14984  0.000000  0.000000  0.000000  0.000000  \n",
      "14985  0.000000  0.000000  0.000000  0.000000  \n",
      "14986  0.000000  0.000000  0.000000  0.000000  \n",
      "14987  0.000000  0.000000  0.000000  0.000000  \n",
      "14988  0.000000  0.000000  0.000000  0.000000  \n",
      "14989  0.000000  0.000000  0.000000  0.000000  \n",
      "14990  0.025679  0.000000  0.000000  0.040839  \n",
      "14991  0.000000  0.000000  0.000000  0.000000  \n",
      "14992  0.000000  0.000000  0.000000  0.000000  \n",
      "14993  0.000000  0.000000  0.000000  0.000000  \n",
      "14994  0.000000  0.000000  0.000000  0.000000  \n",
      "14995  0.000000  0.000000  0.000000  0.000000  \n",
      "14996  0.000000  0.000000  0.000000  0.000000  \n",
      "14997  0.000000  0.000000  0.000000  0.000000  \n",
      "14998  0.000000  0.000000  0.000000  0.000000  \n",
      "14999  0.000000  0.000000  0.000000  0.000000  \n",
      "\n",
      "[15000 rows x 800 columns]\n",
      "[  0   1   2   3   4   5   6   7   8   9  10  11  12  13  14  15  16  17\n",
      "  18  19  20  21  22  23  24  25  26  27  28  29  30  31  32  33  34  35\n",
      "  36  37  38  39  40  41  42  43  44  45  46  47  48  49  50  51  52  53\n",
      "  54  55  56  57  58  59  60  61  62  63  64  65  66  67  68  69  70  71\n",
      "  72  73  74  75  76  77  78  79  80  81  82  83  84  85  86  87  88  89\n",
      "  90  91  92  93  94  95  96  97  98  99 100 101 102 103 104 105 106 107\n",
      " 108 109 110 111 112 113 114 115 116 117 118 119 120 121 122 123 124 125\n",
      " 126 127 128 129 130 131 132 133 134 135 136 137 138 139 140 141 142 143\n",
      " 144 145 146 147 148 149 150 151 152 153 154 155 156 157 158 159 160 161\n",
      " 162 163 164 165 166 167 168 169 170 171 172 173 174 175 176 177 178 179\n",
      " 180 181 182 183 184 185 186 187 188 189 190 191 192 193 194 195 196 197\n",
      " 198 199 200 201 202 203 204 205 206 207 208 209 210 211 212 213 214 215\n",
      " 216 217 218 219 220 221 222 223 224 225 226 227 228 229 230 231 232 233\n",
      " 234 235 236 237 238 239 240 241 242 243 244 245 246 247 248 249 250 251\n",
      " 252 253 254 255 256 257 258 259 260 261 262 263 264 265 266 267 268 269\n",
      " 270 271 272 273 274 275 276 277 278 279 280 281 282 283 284 285 286 287\n",
      " 288 289 290 291 292 293 294 295 296 297 298 299 300 301 302 303 304 305\n",
      " 306 307 308 309 310 311 312 313 314 315 316 317 318 319 320 321 322 323\n",
      " 324 325 326 327 328 329 330 331 332 333 334 335 336 337 338 339 340 341\n",
      " 342 343 344 345 346 347 348 349 350 351 352 353 354 355 356 357 358 359\n",
      " 360 361 362 363 364 365 366 367 368 369 370 371 372 373 374 375 376 377\n",
      " 378 379 380 381 382 383 384 385 386 387 388 389 390 391 392 393 394 395\n",
      " 396 397 398 399 400 401 402 403 404 405 406 407 408 409 410 411 412 413\n",
      " 414 415 416 417 418 419 420 421 422 423 424 425 426 427 428 429 430 431\n",
      " 432 433 434 435 436 437 438 439 440 441 442 443 444 445 446 447 448 449\n",
      " 450 451 452 453 454 455 456 457 458 459 460 461 462 463 464 465 466 467\n",
      " 468 469 470 471 472 473 474 475 476 477 478 479 480 481 482 483 484 485\n",
      " 486 487 488 489 490 491 492 493 494 495 496 497 498 499 500 501 502 503\n",
      " 504 505 506 507 508 509 510 511 512 513 514 515 516 517 518 519 520 521\n",
      " 522 523 524 525 526 527 528 529 530 531 532 533 534 535 536 537 538 539\n",
      " 540 541 542 543 544 545 546 547 548 549 550 551 552 553 554 555 556 557\n",
      " 558 559 560 561 562 563 564 565 566 567 568 569 570 571 572 573 574 575\n",
      " 576 577 578 579 580 581 582 583 584 585 586 587 588 589 590 591 592 593\n",
      " 594 595 596 597 598 599 600 601 602 603 604 605 606 607 608 609 610 611\n",
      " 612 613 614 615 616 617 618 619 620 621 622 623 624 625 626 627 628 629\n",
      " 630 631 632 633 634 635 636 637 638 639 640 641 642 643 644 645 646 647\n",
      " 648 649 650 651 652 653 654 655 656 657 658 659 660 661 662 663 664 665\n",
      " 666 667 668 669 670 671 672 673 674 675 676 677 678 679 680 681 682 683\n",
      " 684 685 686 687 688 689 690 691 692 693 694 695 696 697 698 699 700 701\n",
      " 702 703 704 705 706 707 708 709 710 711 712 713 714 715 716 717 718 719\n",
      " 720 721 722 723 724 725 726 727 728 729 730 731 732 733 734 735 736 737\n",
      " 738 739 740 741 742 743 744 745 746 747 748 749 750 751 752 753 754 755\n",
      " 756 757 758 759 760 761 762 763 764 765 766 767 768 769 770 771 772 773\n",
      " 774 775 776 777 778 779 780 781 782 783 784 785 786 787 788 789 790 791\n",
      " 792 793 794 795 796 797 798 799]\n"
     ]
    }
   ],
   "source": [
    "data_features=pd.DataFrame(data_features)\n",
    "print(data_features)\n",
    "print(data_features.columns.values)"
   ]
  },
  {
   "cell_type": "code",
   "execution_count": 0,
   "metadata": {
    "colab": {},
    "colab_type": "code",
    "id": "L3A1ttMSY0zP"
   },
   "outputs": [],
   "source": [
    "data_features[\"overall\"]=train_data_short[\"overall\"]"
   ]
  },
  {
   "cell_type": "code",
   "execution_count": 0,
   "metadata": {
    "colab": {},
    "colab_type": "code",
    "id": "SwFv5wjmY3KS"
   },
   "outputs": [],
   "source": [
    "data_features = data_features.sample(frac=0.2)\n",
    "#print(data_features)"
   ]
  },
  {
   "cell_type": "code",
   "execution_count": 63,
   "metadata": {
    "colab": {
     "base_uri": "https://localhost:8080/",
     "height": 72
    },
    "colab_type": "code",
    "id": "ZYSoVHAMY5tt",
    "outputId": "c4a2c799-bb34-403d-c101-75fef7d230a1"
   },
   "outputs": [
    {
     "name": "stderr",
     "output_type": "stream",
     "text": [
      "/usr/local/lib/python3.6/dist-packages/sklearn/cross_validation.py:41: DeprecationWarning: This module was deprecated in version 0.18 in favor of the model_selection module into which all the refactored classes and functions are moved. Also note that the interface of the new CV iterators are different from that of this module. This module will be removed in 0.20.\n",
      "  \"This module will be removed in 0.20.\", DeprecationWarning)\n"
     ]
    }
   ],
   "source": [
    "### Splitting data into train & test\n",
    "from sklearn.cross_validation import train_test_split\n",
    "train,valid = train_test_split(data_features, test_size = 0.3) \n"
   ]
  },
  {
   "cell_type": "code",
   "execution_count": 64,
   "metadata": {
    "colab": {
     "base_uri": "https://localhost:8080/",
     "height": 176
    },
    "colab_type": "code",
    "id": "sRx-2HGXZArF",
    "outputId": "2adadd68-a629-403d-d2e1-545cbaf34082"
   },
   "outputs": [
    {
     "name": "stderr",
     "output_type": "stream",
     "text": [
      "/usr/local/lib/python3.6/dist-packages/ipykernel_launcher.py:3: UserWarning: Pandas doesn't allow columns to be created via a new attribute name - see https://pandas.pydata.org/pandas-docs/stable/indexing.html#attribute-access\n",
      "  This is separate from the ipykernel package so we can avoid doing imports until\n",
      "/usr/local/lib/python3.6/dist-packages/ipykernel_launcher.py:4: UserWarning: Pandas doesn't allow columns to be created via a new attribute name - see https://pandas.pydata.org/pandas-docs/stable/indexing.html#attribute-access\n",
      "  after removing the cwd from sys.path.\n",
      "/usr/local/lib/python3.6/dist-packages/ipykernel_launcher.py:6: UserWarning: Pandas doesn't allow columns to be created via a new attribute name - see https://pandas.pydata.org/pandas-docs/stable/indexing.html#attribute-access\n",
      "  \n",
      "/usr/local/lib/python3.6/dist-packages/ipykernel_launcher.py:7: UserWarning: Pandas doesn't allow columns to be created via a new attribute name - see https://pandas.pydata.org/pandas-docs/stable/indexing.html#attribute-access\n",
      "  import sys\n"
     ]
    }
   ],
   "source": [
    "cols = [col for col in data_features.columns if col not in [\"overall\"]]\n",
    "\n",
    "train.x= train[cols]\n",
    "train.y=train[\"overall\"]\n",
    "\n",
    "valid.x=valid[cols]\n",
    "valid.y=valid[\"overall\"]"
   ]
  },
  {
   "cell_type": "code",
   "execution_count": 65,
   "metadata": {
    "colab": {
     "base_uri": "https://localhost:8080/",
     "height": 87
    },
    "colab_type": "code",
    "id": "XkTcl_mAZDvV",
    "outputId": "7f766f8c-285e-4532-fd5e-609ac7c40dfe"
   },
   "outputs": [
    {
     "name": "stdout",
     "output_type": "stream",
     "text": [
      "(2100, 800)\n",
      "(2100,)\n",
      "(900, 800)\n",
      "(900,)\n"
     ]
    }
   ],
   "source": [
    "print(train.x.shape)\n",
    "print(train.y.shape)\n",
    "print(valid.x.shape)\n",
    "print(valid.y.shape)"
   ]
  },
  {
   "cell_type": "code",
   "execution_count": 66,
   "metadata": {
    "colab": {
     "base_uri": "https://localhost:8080/",
     "height": 121
    },
    "colab_type": "code",
    "id": "blkMrUwWZGYb",
    "outputId": "4f059a5b-f19a-4437-b66b-a82c599be802"
   },
   "outputs": [
    {
     "data": {
      "text/plain": [
       "5    542\n",
       "4    197\n",
       "3     87\n",
       "2     38\n",
       "1     36\n",
       "Name: overall, dtype: int64"
      ]
     },
     "execution_count": 66,
     "metadata": {
      "tags": []
     },
     "output_type": "execute_result"
    }
   ],
   "source": [
    "valid.y.value_counts()"
   ]
  },
  {
   "cell_type": "code",
   "execution_count": 67,
   "metadata": {
    "colab": {
     "base_uri": "https://localhost:8080/",
     "height": 121
    },
    "colab_type": "code",
    "id": "le-FMrRUZGbb",
    "outputId": "ffb376ac-c0e9-4304-8165-b73bb2b71a67"
   },
   "outputs": [
    {
     "data": {
      "text/plain": [
       "5    1252\n",
       "4     491\n",
       "3     198\n",
       "2      86\n",
       "1      73\n",
       "Name: overall, dtype: int64"
      ]
     },
     "execution_count": 67,
     "metadata": {
      "tags": []
     },
     "output_type": "execute_result"
    }
   ],
   "source": [
    "train.y.value_counts()"
   ]
  },
  {
   "cell_type": "code",
   "execution_count": 0,
   "metadata": {
    "colab": {},
    "colab_type": "code",
    "id": "ySTI3c0ZZMfR"
   },
   "outputs": [],
   "source": [
    "### _Building Naive Bayes Model_"
   ]
  },
  {
   "cell_type": "code",
   "execution_count": 0,
   "metadata": {
    "colab": {},
    "colab_type": "code",
    "id": "zdaW88W9ZGeV"
   },
   "outputs": [],
   "source": [
    "from sklearn.naive_bayes import MultinomialNB\n",
    "from sklearn.metrics import confusion_matrix"
   ]
  },
  {
   "cell_type": "code",
   "execution_count": 71,
   "metadata": {
    "colab": {
     "base_uri": "https://localhost:8080/",
     "height": 35
    },
    "colab_type": "code",
    "id": "umBhHgLuZGik",
    "outputId": "c5da9626-520d-41ec-c600-a4be2beeeb18"
   },
   "outputs": [
    {
     "data": {
      "text/plain": [
       "MultinomialNB(alpha=1.0, class_prior=None, fit_prior=True)"
      ]
     },
     "execution_count": 71,
     "metadata": {
      "tags": []
     },
     "output_type": "execute_result"
    }
   ],
   "source": [
    "clf_train = MultinomialNB() #intentiated the model\n",
    "\n",
    "clf_train.fit(train.x,train.y) "
   ]
  },
  {
   "cell_type": "code",
   "execution_count": 0,
   "metadata": {
    "colab": {},
    "colab_type": "code",
    "id": "PYKEW60FZGnX"
   },
   "outputs": [],
   "source": [
    "pred = clf_train.predict(valid.x)\n",
    "\n",
    "prediction = confusion_matrix(valid.y,pred)"
   ]
  },
  {
   "cell_type": "code",
   "execution_count": 90,
   "metadata": {
    "colab": {
     "base_uri": "https://localhost:8080/",
     "height": 35
    },
    "colab_type": "code",
    "id": "mub__tatcyCs",
    "outputId": "960ad055-c6ec-4f3a-daa5-13eb911ff0b8"
   },
   "outputs": [
    {
     "data": {
      "text/plain": [
       "array([3, 4, 5])"
      ]
     },
     "execution_count": 90,
     "metadata": {
      "tags": []
     },
     "output_type": "execute_result"
    }
   ],
   "source": [
    "pred_test = clf_train.predict(Dense_mat_test)\n",
    "np.unique(pred_test)"
   ]
  },
  {
   "cell_type": "code",
   "execution_count": 73,
   "metadata": {
    "colab": {
     "base_uri": "https://localhost:8080/",
     "height": 104
    },
    "colab_type": "code",
    "id": "99Tr2viEZGvR",
    "outputId": "7f6f1dea-25da-4792-bb69-696769599814"
   },
   "outputs": [
    {
     "data": {
      "text/plain": [
       "array([[  0,   0,   0,   1,  35],\n",
       "       [  0,   0,   0,   4,  34],\n",
       "       [  0,   0,   0,  10,  77],\n",
       "       [  0,   0,   0,  11, 186],\n",
       "       [  0,   0,   0,   8, 534]])"
      ]
     },
     "execution_count": 73,
     "metadata": {
      "tags": []
     },
     "output_type": "execute_result"
    }
   ],
   "source": [
    "prediction"
   ]
  },
  {
   "cell_type": "code",
   "execution_count": 74,
   "metadata": {
    "colab": {
     "base_uri": "https://localhost:8080/",
     "height": 35
    },
    "colab_type": "code",
    "id": "VHPhWFcpZGyK",
    "outputId": "b53a7f41-81d0-45ad-a74f-daadbceabfec"
   },
   "outputs": [
    {
     "name": "stdout",
     "output_type": "stream",
     "text": [
      "0.6055555555555555\n"
     ]
    }
   ],
   "source": [
    "from sklearn.metrics import recall_score, precision_score, accuracy_score\n",
    "\n",
    "acc = accuracy_score(valid.y, pred)\n",
    "\n",
    "\n",
    "print(acc)"
   ]
  },
  {
   "cell_type": "code",
   "execution_count": 0,
   "metadata": {
    "colab": {},
    "colab_type": "code",
    "id": "imtzkp0AdcZz"
   },
   "outputs": [],
   "source": [
    "submission_nb=pd.DataFrame(pred_test,index=test_data['ID'],columns=['overall'])"
   ]
  },
  {
   "cell_type": "code",
   "execution_count": 0,
   "metadata": {
    "colab": {},
    "colab_type": "code",
    "id": "dobuJzpldcq9"
   },
   "outputs": [],
   "source": [
    "submission_nb.to_csv('submission_nb.csv')"
   ]
  },
  {
   "cell_type": "code",
   "execution_count": 0,
   "metadata": {
    "colab": {},
    "colab_type": "code",
    "id": "t34WBU7mdc2g"
   },
   "outputs": [],
   "source": [
    "files.download(\"submission_nb.csv\")"
   ]
  },
  {
   "cell_type": "markdown",
   "metadata": {
    "colab_type": "text",
    "id": "J2H0tOfXZb_W"
   },
   "source": [
    "### _Build SVM Model_"
   ]
  },
  {
   "cell_type": "code",
   "execution_count": 75,
   "metadata": {
    "colab": {
     "base_uri": "https://localhost:8080/",
     "height": 87
    },
    "colab_type": "code",
    "id": "N8HLooKkZGsp",
    "outputId": "5a05b031-db8b-4da9-e2bd-9bd31fff77e4"
   },
   "outputs": [
    {
     "data": {
      "text/plain": [
       "SVC(C=1.0, cache_size=200, class_weight=None, coef0=0.0,\n",
       "  decision_function_shape='ovr', degree=3, gamma='auto', kernel='linear',\n",
       "  max_iter=-1, probability=False, random_state=None, shrinking=True,\n",
       "  tol=0.001, verbose=False)"
      ]
     },
     "execution_count": 75,
     "metadata": {
      "tags": []
     },
     "output_type": "execute_result"
    }
   ],
   "source": [
    "model_linear = svm.SVC(kernel='linear') \n",
    "model_linear.fit(train.x,train.y.astype(int)) "
   ]
  },
  {
   "cell_type": "code",
   "execution_count": 76,
   "metadata": {
    "colab": {
     "base_uri": "https://localhost:8080/",
     "height": 104
    },
    "colab_type": "code",
    "id": "0DXR7eheZGq6",
    "outputId": "15c852f7-f68f-4dda-daae-dddd090184cc"
   },
   "outputs": [
    {
     "data": {
      "text/plain": [
       "array([[  2,   1,   0,   8,  25],\n",
       "       [  0,   0,   2,  10,  26],\n",
       "       [  0,   0,   3,  19,  65],\n",
       "       [  0,   1,   0,  40, 156],\n",
       "       [  0,   1,   0,  35, 506]])"
      ]
     },
     "execution_count": 76,
     "metadata": {
      "tags": []
     },
     "output_type": "execute_result"
    }
   ],
   "source": [
    "preds = model_linear.predict(valid.x)\n",
    "confusion_matrix(valid.y.astype(int),preds)"
   ]
  },
  {
   "cell_type": "code",
   "execution_count": 0,
   "metadata": {
    "colab": {},
    "colab_type": "code",
    "id": "vMG3BclUZrRc"
   },
   "outputs": [],
   "source": [
    "preds_test = model_linear.predict(Dense_mat_test)"
   ]
  },
  {
   "cell_type": "code",
   "execution_count": 77,
   "metadata": {
    "colab": {
     "base_uri": "https://localhost:8080/",
     "height": 35
    },
    "colab_type": "code",
    "id": "Hf1BSe1SZGlp",
    "outputId": "b1ae7de4-add7-446d-8342-ab5baed0b8c8"
   },
   "outputs": [
    {
     "name": "stdout",
     "output_type": "stream",
     "text": [
      "0.6122222222222222\n"
     ]
    }
   ],
   "source": [
    "accuracy = metrics.accuracy_score(valid.y.astype(int), preds)\n",
    "print(accuracy)"
   ]
  },
  {
   "cell_type": "code",
   "execution_count": 88,
   "metadata": {
    "colab": {
     "base_uri": "https://localhost:8080/",
     "height": 35
    },
    "colab_type": "code",
    "id": "-uIWxTR7ZGhB",
    "outputId": "283759ee-dabd-444d-9454-bdabf455ecd1"
   },
   "outputs": [
    {
     "data": {
      "text/plain": [
       "array([1, 2, 3, 4, 5])"
      ]
     },
     "execution_count": 88,
     "metadata": {
      "tags": []
     },
     "output_type": "execute_result"
    }
   ],
   "source": [
    "np.unique(preds_test)"
   ]
  },
  {
   "cell_type": "code",
   "execution_count": 0,
   "metadata": {
    "colab": {},
    "colab_type": "code",
    "id": "xP_hjPVQaWPr"
   },
   "outputs": [],
   "source": [
    "submission=pd.DataFrame(preds_test,index=test_data['ID'],columns=['overall'])"
   ]
  },
  {
   "cell_type": "code",
   "execution_count": 0,
   "metadata": {
    "colab": {},
    "colab_type": "code",
    "id": "v8KfRCXQbt3J"
   },
   "outputs": [],
   "source": [
    "submission.to_csv('submission11.csv')"
   ]
  },
  {
   "cell_type": "code",
   "execution_count": 0,
   "metadata": {
    "colab": {},
    "colab_type": "code",
    "id": "B5V3Z-81b2Zh"
   },
   "outputs": [],
   "source": [
    "files.download(\"submission11.csv\")"
   ]
  },
  {
   "cell_type": "markdown",
   "metadata": {
    "colab_type": "text",
    "id": "sM6Hn4vmajjX"
   },
   "source": [
    "### _Build a Logistic Regression Model_"
   ]
  },
  {
   "cell_type": "code",
   "execution_count": 84,
   "metadata": {
    "colab": {
     "base_uri": "https://localhost:8080/",
     "height": 263
    },
    "colab_type": "code",
    "id": "OJ3eT_W0aPkE",
    "outputId": "ef0107d5-cae5-4c38-d1d3-63912b7a7716"
   },
   "outputs": [
    {
     "name": "stdout",
     "output_type": "stream",
     "text": [
      "Accuracy of Logistic Regreesion classfier or test set 0.6033333333333334\n",
      "             precision    recall  f1-score   support\n",
      "\n",
      "          1       0.00      0.00      0.00        36\n",
      "          2       0.00      0.00      0.00        38\n",
      "          3       0.00      0.00      0.00        87\n",
      "          4       0.32      0.13      0.18       197\n",
      "          5       0.63      0.96      0.76       542\n",
      "\n",
      "avg / total       0.45      0.60      0.50       900\n",
      "\n"
     ]
    },
    {
     "name": "stderr",
     "output_type": "stream",
     "text": [
      "/usr/local/lib/python3.6/dist-packages/sklearn/metrics/classification.py:1135: UndefinedMetricWarning: Precision and F-score are ill-defined and being set to 0.0 in labels with no predicted samples.\n",
      "  'precision', 'predicted', average, warn_for)\n"
     ]
    }
   ],
   "source": [
    "from sklearn.linear_model import LogisticRegression\n",
    "logreg=LogisticRegression()\n",
    "logreg.fit(train.x,train.y)\n",
    "y_pred=logreg.predict(valid.x)\n",
    "\n",
    "print(\"Accuracy of Logistic Regreesion classfier or test set\", logreg.score(valid.x,valid.y))\n",
    "\n",
    "from sklearn.metrics import classification_report\n",
    "print(classification_report(valid.y,y_pred))"
   ]
  },
  {
   "cell_type": "code",
   "execution_count": 0,
   "metadata": {
    "colab": {},
    "colab_type": "code",
    "id": "GVwP4BRZeDQA"
   },
   "outputs": [],
   "source": [
    "predect_test = logreg.predict(Dense_mat_test)"
   ]
  },
  {
   "cell_type": "code",
   "execution_count": 0,
   "metadata": {
    "colab": {},
    "colab_type": "code",
    "id": "Y7FOq6_reXy2"
   },
   "outputs": [],
   "source": [
    "submission_lr=pd.DataFrame(predect_test,index=test_data['ID'],columns=['overall'])"
   ]
  },
  {
   "cell_type": "code",
   "execution_count": 0,
   "metadata": {
    "colab": {},
    "colab_type": "code",
    "id": "6FKQW3N0eYEa"
   },
   "outputs": [],
   "source": [
    "submission.to_csv('submission_lr.csv')"
   ]
  },
  {
   "cell_type": "code",
   "execution_count": 0,
   "metadata": {
    "colab": {},
    "colab_type": "code",
    "id": "vnSnNuhAeYI0"
   },
   "outputs": [],
   "source": [
    "files.download(\"submission_lr.csv\")"
   ]
  }
 ],
 "metadata": {
  "accelerator": "GPU",
  "colab": {
   "name": "Untitled1.ipynb",
   "provenance": [],
   "version": "0.3.2"
  },
  "kernelspec": {
   "display_name": "Python 3",
   "language": "python",
   "name": "python3"
  },
  "language_info": {
   "codemirror_mode": {
    "name": "ipython",
    "version": 3
   },
   "file_extension": ".py",
   "mimetype": "text/x-python",
   "name": "python",
   "nbconvert_exporter": "python",
   "pygments_lexer": "ipython3",
   "version": "3.6.5"
  }
 },
 "nbformat": 4,
 "nbformat_minor": 1
}
