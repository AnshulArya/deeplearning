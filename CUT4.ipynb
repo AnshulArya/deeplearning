{
 "cells": [
  {
   "cell_type": "code",
   "execution_count": 0,
   "metadata": {
    "colab": {},
    "colab_type": "code",
    "id": "HSbjn3nmnhHD"
   },
   "outputs": [],
   "source": [
    "\n",
    "\n",
    "\n",
    "\n",
    "\n",
    "\n",
    "\n",
    "import ssl\n",
    "import zipfile, urllib.request, shutil\n",
    "\n",
    "\n",
    "ssl._create_default_https_context = ssl._create_unverified_context\n",
    "\n",
    "\n",
    "url = 'https://sct.insofe.edu.in/media/question_img_upload/CSE7321c_Deep_Learning%20and%20Text_Mining_CUTe-1540270465813.zip'\n",
    "file_name = 'myzip.zip'\n",
    "\n",
    "with urllib.request.urlopen(url) as response, open(file_name, 'wb') as out_file:\n",
    "    shutil.copyfileobj(response, out_file)\n",
    "    with zipfile.ZipFile(file_name) as zf:\n",
    "        zf.extractall()"
   ]
  },
  {
   "cell_type": "code",
   "execution_count": 4,
   "metadata": {
    "colab": {
     "base_uri": "https://localhost:8080/",
     "height": 104
    },
    "colab_type": "code",
    "id": "GkHMYwHNbkwf",
    "outputId": "e11e9667-2550-4bc6-879f-2cbcd3982d95"
   },
   "outputs": [
    {
     "name": "stdout",
     "output_type": "stream",
     "text": [
      "Requirement already satisfied: imblearn in /usr/local/lib/python3.6/dist-packages (0.0)\n",
      "Requirement already satisfied: imbalanced-learn in /usr/local/lib/python3.6/dist-packages (from imblearn) (0.4.2)\n",
      "Requirement already satisfied: scikit-learn>=0.20 in /usr/local/lib/python3.6/dist-packages (from imbalanced-learn->imblearn) (0.20.0)\n",
      "Requirement already satisfied: scipy>=0.13.3 in /usr/local/lib/python3.6/dist-packages (from imbalanced-learn->imblearn) (0.19.1)\n",
      "Requirement already satisfied: numpy>=1.8.2 in /usr/local/lib/python3.6/dist-packages (from imbalanced-learn->imblearn) (1.14.6)\n"
     ]
    }
   ],
   "source": [
    "!pip install imblearn"
   ]
  },
  {
   "cell_type": "code",
   "execution_count": 0,
   "metadata": {
    "colab": {},
    "colab_type": "code",
    "id": "FT1GgY7PcMKx"
   },
   "outputs": [],
   "source": []
  },
  {
   "cell_type": "code",
   "execution_count": 0,
   "metadata": {
    "colab": {},
    "colab_type": "code",
    "id": "4guElRfyxXTN"
   },
   "outputs": [],
   "source": [
    "#import libraries\n",
    "import re\n",
    "import pandas as pd\n",
    "import numpy as np\n",
    "from imblearn.over_sampling import SMOTE # Oversampling\n",
    "\n",
    "\n",
    "# We will use the following Scikit-Learn classes for the activity\n",
    "from sklearn import svm\n",
    "from sklearn.model_selection import train_test_split\n",
    "from sklearn import metrics \n",
    "\n",
    "#from sklearn.feature_extrection.text import CountVectorizer\n",
    "from sklearn.feature_extraction.text import TfidfVectorizer\n",
    "\n",
    "from google.colab import files"
   ]
  },
  {
   "cell_type": "code",
   "execution_count": 6,
   "metadata": {
    "colab": {
     "base_uri": "https://localhost:8080/",
     "height": 867
    },
    "colab_type": "code",
    "id": "qt6dDVDKTkJ-",
    "outputId": "46fb81f3-02a0-4bb5-d835-f4c3d185e27b"
   },
   "outputs": [
    {
     "name": "stdout",
     "output_type": "stream",
     "text": [
      "[nltk_data] Downloading collection 'popular'\n",
      "[nltk_data]    | \n",
      "[nltk_data]    | Downloading package cmudict to /root/nltk_data...\n",
      "[nltk_data]    |   Package cmudict is already up-to-date!\n",
      "[nltk_data]    | Downloading package gazetteers to /root/nltk_data...\n",
      "[nltk_data]    |   Package gazetteers is already up-to-date!\n",
      "[nltk_data]    | Downloading package genesis to /root/nltk_data...\n",
      "[nltk_data]    |   Package genesis is already up-to-date!\n",
      "[nltk_data]    | Downloading package gutenberg to /root/nltk_data...\n",
      "[nltk_data]    |   Package gutenberg is already up-to-date!\n",
      "[nltk_data]    | Downloading package inaugural to /root/nltk_data...\n",
      "[nltk_data]    |   Package inaugural is already up-to-date!\n",
      "[nltk_data]    | Downloading package movie_reviews to\n",
      "[nltk_data]    |     /root/nltk_data...\n",
      "[nltk_data]    |   Package movie_reviews is already up-to-date!\n",
      "[nltk_data]    | Downloading package names to /root/nltk_data...\n",
      "[nltk_data]    |   Package names is already up-to-date!\n",
      "[nltk_data]    | Downloading package shakespeare to /root/nltk_data...\n",
      "[nltk_data]    |   Package shakespeare is already up-to-date!\n",
      "[nltk_data]    | Downloading package stopwords to /root/nltk_data...\n",
      "[nltk_data]    |   Package stopwords is already up-to-date!\n",
      "[nltk_data]    | Downloading package treebank to /root/nltk_data...\n",
      "[nltk_data]    |   Package treebank is already up-to-date!\n",
      "[nltk_data]    | Downloading package twitter_samples to\n",
      "[nltk_data]    |     /root/nltk_data...\n",
      "[nltk_data]    |   Package twitter_samples is already up-to-date!\n",
      "[nltk_data]    | Downloading package omw to /root/nltk_data...\n",
      "[nltk_data]    |   Package omw is already up-to-date!\n",
      "[nltk_data]    | Downloading package wordnet to /root/nltk_data...\n",
      "[nltk_data]    |   Package wordnet is already up-to-date!\n",
      "[nltk_data]    | Downloading package wordnet_ic to /root/nltk_data...\n",
      "[nltk_data]    |   Package wordnet_ic is already up-to-date!\n",
      "[nltk_data]    | Downloading package words to /root/nltk_data...\n",
      "[nltk_data]    |   Package words is already up-to-date!\n",
      "[nltk_data]    | Downloading package maxent_ne_chunker to\n",
      "[nltk_data]    |     /root/nltk_data...\n",
      "[nltk_data]    |   Package maxent_ne_chunker is already up-to-date!\n",
      "[nltk_data]    | Downloading package punkt to /root/nltk_data...\n",
      "[nltk_data]    |   Package punkt is already up-to-date!\n",
      "[nltk_data]    | Downloading package snowball_data to\n",
      "[nltk_data]    |     /root/nltk_data...\n",
      "[nltk_data]    |   Package snowball_data is already up-to-date!\n",
      "[nltk_data]    | Downloading package averaged_perceptron_tagger to\n",
      "[nltk_data]    |     /root/nltk_data...\n",
      "[nltk_data]    |   Package averaged_perceptron_tagger is already up-\n",
      "[nltk_data]    |       to-date!\n",
      "[nltk_data]    | \n",
      "[nltk_data]  Done downloading collection popular\n"
     ]
    },
    {
     "data": {
      "text/plain": [
       "True"
      ]
     },
     "execution_count": 6,
     "metadata": {
      "tags": []
     },
     "output_type": "execute_result"
    }
   ],
   "source": [
    "#use NLTK libraries for text preprocessing\n",
    "import nltk\n",
    "from nltk.corpus import stopwords\n",
    "from nltk.corpus import RegexpTokenizer as regextoken\n",
    "from nltk.stem import WordNetLemmatizer\n",
    "\n",
    "nltk.download(\"popular\")"
   ]
  },
  {
   "cell_type": "code",
   "execution_count": 0,
   "metadata": {
    "colab": {},
    "colab_type": "code",
    "id": "Z-fRcbj-MyMP"
   },
   "outputs": [],
   "source": [
    "import seaborn as sns"
   ]
  },
  {
   "cell_type": "code",
   "execution_count": 0,
   "metadata": {
    "colab": {},
    "colab_type": "code",
    "id": "6F3lkp0iTk--"
   },
   "outputs": [],
   "source": [
    "train_data = pd.read_csv(\"CSE7321c_Deep_Learning and Text_Mining_CUTe/train.csv\",encoding='latin-1')\n",
    "test_data= pd.read_csv(\"CSE7321c_Deep_Learning and Text_Mining_CUTe/test.csv\",encoding='latin-1')"
   ]
  },
  {
   "cell_type": "code",
   "execution_count": 9,
   "metadata": {
    "colab": {
     "base_uri": "https://localhost:8080/",
     "height": 202
    },
    "colab_type": "code",
    "id": "nTFjfvHHIzSL",
    "outputId": "ed18a383-609d-4b58-8c27-26990bdef2ff"
   },
   "outputs": [
    {
     "data": {
      "text/html": [
       "<div>\n",
       "<style scoped>\n",
       "    .dataframe tbody tr th:only-of-type {\n",
       "        vertical-align: middle;\n",
       "    }\n",
       "\n",
       "    .dataframe tbody tr th {\n",
       "        vertical-align: top;\n",
       "    }\n",
       "\n",
       "    .dataframe thead th {\n",
       "        text-align: right;\n",
       "    }\n",
       "</style>\n",
       "<table border=\"1\" class=\"dataframe\">\n",
       "  <thead>\n",
       "    <tr style=\"text-align: right;\">\n",
       "      <th></th>\n",
       "      <th>ID</th>\n",
       "      <th>reviewText</th>\n",
       "      <th>overall</th>\n",
       "    </tr>\n",
       "  </thead>\n",
       "  <tbody>\n",
       "    <tr>\n",
       "      <th>0</th>\n",
       "      <td>1</td>\n",
       "      <td>These are so wonderful to have in the car in t...</td>\n",
       "      <td>5</td>\n",
       "    </tr>\n",
       "    <tr>\n",
       "      <th>1</th>\n",
       "      <td>2</td>\n",
       "      <td>XL fits perfect on me over armored riding jack...</td>\n",
       "      <td>5</td>\n",
       "    </tr>\n",
       "    <tr>\n",
       "      <th>2</th>\n",
       "      <td>3</td>\n",
       "      <td>Since I had just noticed my wiper blades neede...</td>\n",
       "      <td>3</td>\n",
       "    </tr>\n",
       "    <tr>\n",
       "      <th>3</th>\n",
       "      <td>4</td>\n",
       "      <td>I am very satisfied with G110v2.  It is comfor...</td>\n",
       "      <td>5</td>\n",
       "    </tr>\n",
       "    <tr>\n",
       "      <th>4</th>\n",
       "      <td>5</td>\n",
       "      <td>This amp did a good job for its rating. It was...</td>\n",
       "      <td>3</td>\n",
       "    </tr>\n",
       "  </tbody>\n",
       "</table>\n",
       "</div>"
      ],
      "text/plain": [
       "   ID                                         reviewText  overall\n",
       "0   1  These are so wonderful to have in the car in t...        5\n",
       "1   2  XL fits perfect on me over armored riding jack...        5\n",
       "2   3  Since I had just noticed my wiper blades neede...        3\n",
       "3   4  I am very satisfied with G110v2.  It is comfor...        5\n",
       "4   5  This amp did a good job for its rating. It was...        3"
      ]
     },
     "execution_count": 9,
     "metadata": {
      "tags": []
     },
     "output_type": "execute_result"
    }
   ],
   "source": [
    "train_data.head()"
   ]
  },
  {
   "cell_type": "code",
   "execution_count": 10,
   "metadata": {
    "colab": {
     "base_uri": "https://localhost:8080/",
     "height": 35
    },
    "colab_type": "code",
    "id": "u8zPICmUT36A",
    "outputId": "4bb0561b-5d88-4c89-c838-49f4eb070085"
   },
   "outputs": [
    {
     "data": {
      "text/plain": [
       "(77075, 3)"
      ]
     },
     "execution_count": 10,
     "metadata": {
      "tags": []
     },
     "output_type": "execute_result"
    }
   ],
   "source": [
    "train_data.shape"
   ]
  },
  {
   "cell_type": "code",
   "execution_count": 11,
   "metadata": {
    "colab": {
     "base_uri": "https://localhost:8080/",
     "height": 156
    },
    "colab_type": "code",
    "id": "NjV6wUHsC5sq",
    "outputId": "1ef6d1df-9efa-46b3-e79e-c6e24fd34f34"
   },
   "outputs": [
    {
     "name": "stdout",
     "output_type": "stream",
     "text": [
      "<class 'pandas.core.frame.DataFrame'>\n",
      "RangeIndex: 77075 entries, 0 to 77074\n",
      "Data columns (total 3 columns):\n",
      "ID            77075 non-null int64\n",
      "reviewText    77049 non-null object\n",
      "overall       77075 non-null int64\n",
      "dtypes: int64(2), object(1)\n",
      "memory usage: 1.8+ MB\n"
     ]
    }
   ],
   "source": [
    "train_data.info()"
   ]
  },
  {
   "cell_type": "code",
   "execution_count": 12,
   "metadata": {
    "colab": {
     "base_uri": "https://localhost:8080/",
     "height": 121
    },
    "colab_type": "code",
    "id": "AsY3fKq6pmXQ",
    "outputId": "fe3e05f0-91cd-4c15-f45e-16ca27daa49e"
   },
   "outputs": [
    {
     "data": {
      "text/plain": [
       "5    46317\n",
       "4    16997\n",
       "3     7676\n",
       "2     3241\n",
       "1     2844\n",
       "Name: overall, dtype: int64"
      ]
     },
     "execution_count": 12,
     "metadata": {
      "tags": []
     },
     "output_type": "execute_result"
    }
   ],
   "source": [
    "train_data['overall'].value_counts()"
   ]
  },
  {
   "cell_type": "code",
   "execution_count": 13,
   "metadata": {
    "colab": {
     "base_uri": "https://localhost:8080/",
     "height": 361
    },
    "colab_type": "code",
    "id": "F9HFCgRdM9N_",
    "outputId": "636ba5a1-1007-4300-df9e-831a923b47f3"
   },
   "outputs": [
    {
     "data": {
      "image/png": "[encoded data removed]",
      "text/plain": [
       "<matplotlib.figure.Figure at 0x7f0e114b5ac8>"
      ]
     },
     "metadata": {
      "tags": []
     },
     "output_type": "display_data"
    }
   ],
   "source": [
    "sns.distplot(train_data['overall'], kde=False);"
   ]
  },
  {
   "cell_type": "code",
   "execution_count": 0,
   "metadata": {
    "colab": {},
    "colab_type": "code",
    "id": "oxbi9hAwT_iN"
   },
   "outputs": [],
   "source": [
    "cleanup_re = re.compile('[^a-z]+')\n",
    "def review_to_words( raw_review ):\n",
    "        \n",
    "    letters_only = re.sub(\"[^a-zA-Z]\", \" \", str(raw_review)) \n",
    "    words = letters_only.lower().split()                             \n",
    "    stops = set(stopwords.words(\"english\"))                   \n",
    "    meaningful_words = [w for w in words if not w in stops]\n",
    "    sentence =  \" \".join( meaningful_words )\n",
    "    sentence = str(sentence)\n",
    "    sentence = re.sub(r'\\s+',' ',sentence) #\\s is for white spaces\n",
    "    sentence = re.sub('[\\d]','',sentence)  #\\d is for digits\n",
    "    sentence = sentence.lower()\n",
    "    sentence = cleanup_re.sub(' ', sentence).strip()\n",
    "    #sentence = \" \".join(nltk.word_tokenize(sentence))\n",
    "    return sentence"
   ]
  },
  {
   "cell_type": "code",
   "execution_count": 15,
   "metadata": {
    "colab": {
     "base_uri": "https://localhost:8080/",
     "height": 35
    },
    "colab_type": "code",
    "id": "Ors4tnwPT_nk",
    "outputId": "f6eca99c-28b1-4915-89e3-d496d768d26c"
   },
   "outputs": [
    {
     "name": "stdout",
     "output_type": "stream",
     "text": [
      "77075\n"
     ]
    }
   ],
   "source": [
    "num_review = train_data[\"reviewText\"].size\n",
    "\n",
    "print(num_review)\n"
   ]
  },
  {
   "cell_type": "code",
   "execution_count": 16,
   "metadata": {
    "colab": {
     "base_uri": "https://localhost:8080/",
     "height": 35
    },
    "colab_type": "code",
    "id": "oAVkbRLIqIpo",
    "outputId": "01b28024-a12b-428f-ecc6-5d48e70f6d45"
   },
   "outputs": [
    {
     "name": "stdout",
     "output_type": "stream",
     "text": [
      "4057\n"
     ]
    }
   ],
   "source": [
    "num_reviews_test = test_data[\"reviewText\"].size\n",
    "\n",
    "print(num_reviews_test)"
   ]
  },
  {
   "cell_type": "code",
   "execution_count": 17,
   "metadata": {
    "colab": {
     "base_uri": "https://localhost:8080/",
     "height": 55
    },
    "colab_type": "code",
    "id": "FKbCW__TT_sW",
    "outputId": "67fa7f90-564f-484f-aaf4-af68f7def2f7"
   },
   "outputs": [
    {
     "name": "stdout",
     "output_type": "stream",
     "text": [
      "['wonderful car winter getting one another color brand decided pick second blanket kids use traveling minnesota gets extremely cold everyone always fighting thermostat set travel electric blankets car everyone keep warm want blanket works well one gets warm fast works exactly like household electric blanket pleased well worked bought gifts people christmas year big one knew even made thing finally warm toasty want', 'xl fits perfect armored riding jacket lbs rush putting complainingabout ripping like others wear pants daily cool mornings never worry rain stay dry take time zip correctly velcro properly sinch needs sinched love mine days arrive ordering']\n"
     ]
    }
   ],
   "source": [
    "review_clean_train=[]\n",
    "\n",
    "# Loop over each review; create an index i that goes from 0 to the length\n",
    "# of the movie review list \n",
    "for i in range(num_review):\n",
    "    # Call our function for each one, and add the result to the list of\n",
    "    # clean reviews\n",
    "    review_clean_train.append(review_to_words(train_data['reviewText'][i]))\n",
    "\n",
    "# print(clean_reviews)\n",
    " \n",
    "print (review_clean_train[:2])\n"
   ]
  },
  {
   "cell_type": "code",
   "execution_count": 18,
   "metadata": {
    "colab": {
     "base_uri": "https://localhost:8080/",
     "height": 55
    },
    "colab_type": "code",
    "id": "JHBRNBKdqTM3",
    "outputId": "4cc9b067-7222-4589-a788-5a1f1970aced"
   },
   "outputs": [
    {
     "name": "stdout",
     "output_type": "stream",
     "text": [
      "idea gardening lots hanging baskets container plants patio enjoy soil perfect fairly lightweight like hauling backyard delivered near problem ithot might large bag soil ordered bags far container plants seem begrowing well hanging basket plants well another two weeks looking perfect andfull flowers nice could get delivered car therefore real problem getting plants soilhome use spring\n"
     ]
    }
   ],
   "source": [
    "# Initialize an empty list to hold the clean reviews\n",
    "\n",
    "review_clean_test=[]\n",
    "\n",
    "# Loop over each review; create an index i that goes from 0 to the length\n",
    "# of the movie review list \n",
    "for i in range(num_reviews_test):\n",
    "    # Call our function for each one, and add the result to the list of\n",
    "    # clean reviews\n",
    "    review_clean_test.append(review_to_words( test_data[\"reviewText\"][i] ))\n",
    "    \n",
    "\n",
    "#print(clean_reviews)\n",
    "\n",
    "print(review_clean_test[0])"
   ]
  },
  {
   "cell_type": "code",
   "execution_count": 0,
   "metadata": {
    "colab": {},
    "colab_type": "code",
    "id": "fgL4rHxbUjZJ"
   },
   "outputs": [],
   "source": [
    "labels_train = list(train_data['overall'].values)\n"
   ]
  },
  {
   "cell_type": "markdown",
   "metadata": {
    "colab_type": "text",
    "id": "kz2bZ9OorDJu"
   },
   "source": [
    "\n",
    "\n",
    "```\n",
    "*#**Word Embedding with Keras**\n",
    "**bold text**Keras Embedding Layer Keras offers an Embedding layer that can be used for neural networks on text data. This data preparation step can be performed using the Tokenizer API also provided with Keras.\n",
    "\n",
    "\"Word embeddings\" are a family of natural language processing techniques aiming at mapping semantic meaning into a geometric space. This is done by associating a numeric vector to every word in a dictionary, such that the distance (e.g. L2 distance or more commonly cosine distance) between any two vectors would capture part of the semantic relationship between the two associated words.* \n",
    "```\n",
    "\n"
   ]
  },
  {
   "cell_type": "code",
   "execution_count": 20,
   "metadata": {
    "colab": {
     "base_uri": "https://localhost:8080/",
     "height": 35
    },
    "colab_type": "code",
    "id": "olKWoVkPq_7-",
    "outputId": "3c2cc6d6-120e-40d9-f13c-1405ac372025"
   },
   "outputs": [
    {
     "name": "stderr",
     "output_type": "stream",
     "text": [
      "Using TensorFlow backend.\n"
     ]
    }
   ],
   "source": [
    "from numpy import zeros\n",
    "from numpy import asarray\n",
    "\n",
    "import pandas as pd\n",
    "\n",
    "from keras.preprocessing.text import Tokenizer\n",
    "\n",
    "from keras.preprocessing.sequence import pad_sequences\n",
    "\n",
    "from keras.models import Sequential\n",
    "\n",
    "from keras.layers import Dense\n",
    "from keras.layers import Flatten\n",
    "from keras.layers.embeddings import Embedding\n",
    "\n",
    "\n",
    "from keras.utils import np_utils, normalize"
   ]
  },
  {
   "cell_type": "code",
   "execution_count": 21,
   "metadata": {
    "colab": {
     "base_uri": "https://localhost:8080/",
     "height": 35
    },
    "colab_type": "code",
    "id": "5TLJNUzSrAG_",
    "outputId": "628041a4-4100-4780-ca44-5b128e17b812"
   },
   "outputs": [
    {
     "name": "stdout",
     "output_type": "stream",
     "text": [
      "73647\n"
     ]
    }
   ],
   "source": [
    "# Prepare tokenizer\n",
    "t = Tokenizer()\n",
    "t.fit_on_texts(review_clean_train)\n",
    "\n",
    "#print (t.word_index)\n",
    "#+1 is for \n",
    "vocab_size = len(t.word_index) + 1\n",
    "print (vocab_size)"
   ]
  },
  {
   "cell_type": "code",
   "execution_count": 22,
   "metadata": {
    "colab": {
     "base_uri": "https://localhost:8080/",
     "height": 35
    },
    "colab_type": "code",
    "id": "Z3oHixnArAJ8",
    "outputId": "2fd498fa-3c1b-46db-e9eb-b3a49b64795e"
   },
   "outputs": [
    {
     "data": {
      "text/plain": [
       "'\\nt.fit_on_texts(review_clean_test)\\nprint (t.word_index)\\nvocab_size_test = len(t.word_index) + 1\\nprint (vocab_size_test)\\n\\n'"
      ]
     },
     "execution_count": 22,
     "metadata": {
      "tags": []
     },
     "output_type": "execute_result"
    }
   ],
   "source": [
    "'''\n",
    "t.fit_on_texts(review_clean_test)\n",
    "print (t.word_index)\n",
    "vocab_size_test = len(t.word_index) + 1\n",
    "print (vocab_size_test)\n",
    "\n",
    "'''"
   ]
  },
  {
   "cell_type": "code",
   "execution_count": 0,
   "metadata": {
    "colab": {},
    "colab_type": "code",
    "id": "sq9dUJQRrAMp"
   },
   "outputs": [],
   "source": [
    "# integer encode the documents\n",
    "encoded_review_train = t.texts_to_sequences(review_clean_train)\n",
    "\n",
    "# Test\n",
    "encoded_review_test = t.texts_to_sequences(review_clean_test)\n"
   ]
  },
  {
   "cell_type": "code",
   "execution_count": 24,
   "metadata": {
    "colab": {
     "base_uri": "https://localhost:8080/",
     "height": 72
    },
    "colab_type": "code",
    "id": "ZFasfiZqrAU0",
    "outputId": "74600e46-5e21-4df1-f7a3-f91e9cca82d8"
   },
   "outputs": [
    {
     "name": "stdout",
     "output_type": "stream",
     "text": [
      "['wonderful car winter getting one another color brand decided pick second blanket kids use traveling minnesota gets extremely cold everyone always fighting thermostat set travel electric blankets car everyone keep warm want blanket works well one gets warm fast works exactly like household electric blanket pleased well worked bought gifts people christmas year big one knew even made thing finally warm toasty want', 'xl fits perfect armored riding jacket lbs rush putting complainingabout ripping like others wear pants daily cool mornings never worry rain stay dry take time zip correctly velcro properly sinch needs sinched love mine days arrive ordering']\n",
      "[[468, 36, 567, 126, 1, 72, 425, 417, 392, 353, 181, 6179, 322, 8, 3336, 7656, 159, 575, 774, 335, 82, 1826, 5419, 74, 1015, 442, 19700, 36, 335, 45, 926, 49, 6179, 35, 6, 1, 159, 926, 350, 35, 437, 2, 3197, 442, 6179, 646, 6, 192, 100, 6180, 55, 1891, 109, 113, 1, 870, 19, 38, 64, 381, 926, 19701, 49], [5118, 386, 147, 20908, 2432, 3945, 2016, 3810, 639, 42671, 9492, 2, 225, 835, 4773, 1514, 462, 8865, 60, 954, 461, 491, 358, 95, 12, 3754, 1957, 2350, 973, 34289, 296, 34290, 18, 480, 197, 3569, 2190]]\n"
     ]
    }
   ],
   "source": [
    "print(review_clean_train[0:2])\n",
    "print(encoded_review_train[0:2])"
   ]
  },
  {
   "cell_type": "code",
   "execution_count": 25,
   "metadata": {
    "colab": {
     "base_uri": "https://localhost:8080/",
     "height": 35
    },
    "colab_type": "code",
    "id": "NZbZttkCrAYC",
    "outputId": "81daaa70-29cd-47af-ee4f-c6b4c7006c26"
   },
   "outputs": [
    {
     "data": {
      "text/plain": [
       "1627"
      ]
     },
     "execution_count": 25,
     "metadata": {
      "tags": []
     },
     "output_type": "execute_result"
    }
   ],
   "source": [
    "count = 0\n",
    "for i in encoded_review_train:\n",
    "  if len(i) > count:\n",
    "    count = len(i)\n",
    "  else:\n",
    "    count = count\n",
    "count    "
   ]
  },
  {
   "cell_type": "markdown",
   "metadata": {
    "colab_type": "text",
    "id": "W6mxmI-Bww4Q"
   },
   "source": [
    "The sequences have different lengths and Keras prefers inputs to be vectorized and all inputs to have the same length. We will pad all input sequences to have the length of 4. Again, we can do this with a built in Keras's pad_sequences() function.\n",
    "\n",
    "pad_sequences is used to ensure that all sequences in a list have the same length. By default this is done by padding 0 in the beginning of each sequence until each sequence has the same length as the longest sequence.\n",
    "\n",
    "If you rather want to pad to the end of the sequences you can set padding='post'.\n",
    "\n",
    "If you want to specify the maximum length of each sequence you can use the maxlen argument. This will truncate all sequences longer than maxlen."
   ]
  },
  {
   "cell_type": "code",
   "execution_count": 26,
   "metadata": {
    "colab": {
     "base_uri": "https://localhost:8080/",
     "height": 399
    },
    "colab_type": "code",
    "id": "c7p-fA2FrAfy",
    "outputId": "de897608-cc7b-4e98-896a-6efc8686c31c"
   },
   "outputs": [
    {
     "name": "stdout",
     "output_type": "stream",
     "text": [
      "[[ 468   36  567 ...    0    0    0]\n",
      " [5118  386  147 ...    0    0    0]\n",
      " [  78  652  514 ...    0    0    0]\n",
      " ...\n",
      " [  18  233  206 ...    0    0    0]\n",
      " [  20  210  471 ...    0    0    0]\n",
      " [   4  159   23 ...    0    0    0]]\n",
      "\n",
      "\n",
      "(77075, 1627)\n",
      "\n",
      "\n",
      "[[ 285 1647  422 ...    0    0    0]\n",
      " [ 130 7104  117 ...    0    0    0]\n",
      " [9383  215  999 ...    0    0    0]\n",
      " ...\n",
      " [ 578  191 2607 ...    0    0    0]\n",
      " [  18    4   82 ...    0    0    0]\n",
      " [   6  108   25 ...    0    0    0]]\n",
      "\n",
      "\n",
      "(4057, 1627)\n"
     ]
    }
   ],
   "source": [
    "# pad documents to a max length of 1627 words\n",
    "max_length = 1627\n",
    "padded_review_train = pad_sequences(encoded_review_train, maxlen=max_length, padding='post')\n",
    "print(padded_review_train)\n",
    "print ('\\n')\n",
    "print(padded_review_train.shape)\n",
    "print ('\\n')\n",
    "\n",
    "\n",
    "\n",
    "# On Test\n",
    "padded_review_test = pad_sequences(encoded_review_test, maxlen=max_length, padding='post')\n",
    "print(padded_review_test)\n",
    "print ('\\n')\n",
    "print(padded_review_test.shape)\n"
   ]
  },
  {
   "cell_type": "code",
   "execution_count": 27,
   "metadata": {
    "colab": {
     "base_uri": "https://localhost:8080/",
     "height": 139
    },
    "colab_type": "code",
    "id": "qKoICJDF7P7D",
    "outputId": "d6e32931-9aac-413a-81cc-7b92f5d2b8a5"
   },
   "outputs": [
    {
     "name": "stdout",
     "output_type": "stream",
     "text": [
      "[[0.01441907 0.00110916 0.01746926 ... 0.         0.         0.        ]\n",
      " [0.07300384 0.00550596 0.00209683 ... 0.         0.         0.        ]\n",
      " [0.00134849 0.01127197 0.00888618 ... 0.         0.         0.        ]\n",
      " ...\n",
      " [0.00057483 0.00744083 0.00657859 ... 0.         0.         0.        ]\n",
      " [0.0002365  0.00248326 0.0055696  ... 0.         0.         0.        ]\n",
      " [0.00037719 0.0149934  0.00216886 ... 0.         0.         0.        ]]\n"
     ]
    }
   ],
   "source": [
    "padded_norm_train = normalize(padded_review_train)\n",
    "print(padded_norm_train)"
   ]
  },
  {
   "cell_type": "code",
   "execution_count": 28,
   "metadata": {
    "colab": {
     "base_uri": "https://localhost:8080/",
     "height": 243
    },
    "colab_type": "code",
    "id": "MkpMlaH2Hww2",
    "outputId": "febae91d-8888-4182-8266-f92978988f4e"
   },
   "outputs": [
    {
     "name": "stdout",
     "output_type": "stream",
     "text": [
      "[[2.46832032e-02 1.42642932e-01 3.65484623e-02 ... 0.00000000e+00\n",
      "  0.00000000e+00 0.00000000e+00]\n",
      " [9.71598157e-03 5.30941023e-01 8.74438341e-03 ... 0.00000000e+00\n",
      "  0.00000000e+00 0.00000000e+00]\n",
      " [1.83701268e-01 4.20929048e-03 1.95585172e-02 ... 0.00000000e+00\n",
      "  0.00000000e+00 0.00000000e+00]\n",
      " ...\n",
      " [7.65751082e-02 2.53042313e-02 3.45382884e-01 ... 0.00000000e+00\n",
      "  0.00000000e+00 0.00000000e+00]\n",
      " [6.71464166e-04 1.49214259e-04 3.05889231e-03 ... 0.00000000e+00\n",
      "  0.00000000e+00 0.00000000e+00]\n",
      " [1.07649203e-03 1.93768565e-02 4.48538345e-03 ... 0.00000000e+00\n",
      "  0.00000000e+00 0.00000000e+00]]\n"
     ]
    }
   ],
   "source": [
    "padded_norm_test = normalize(padded_review_test)\n",
    "print(padded_norm_test)"
   ]
  },
  {
   "cell_type": "markdown",
   "metadata": {
    "colab_type": "text",
    "id": "FACLTrKucrXc"
   },
   "source": [
    "**SMOTING**"
   ]
  },
  {
   "cell_type": "code",
   "execution_count": 29,
   "metadata": {
    "colab": {
     "base_uri": "https://localhost:8080/",
     "height": 139
    },
    "colab_type": "code",
    "id": "Ocb_5BCgcqsF",
    "outputId": "dcef14a6-3042-4a06-e243-df89a0977e88"
   },
   "outputs": [
    {
     "data": {
      "text/plain": [
       "array([[0., 0., 0., 0., 0., 1.],\n",
       "       [0., 0., 0., 0., 0., 1.],\n",
       "       [0., 0., 0., 1., 0., 0.],\n",
       "       ...,\n",
       "       [0., 0., 0., 0., 0., 1.],\n",
       "       [0., 0., 0., 0., 0., 1.],\n",
       "       [0., 0., 0., 0., 0., 1.]], dtype=float32)"
      ]
     },
     "execution_count": 29,
     "metadata": {
      "tags": []
     },
     "output_type": "execute_result"
    }
   ],
   "source": [
    "# Reshape Y_train\n",
    "labels_np_train = np_utils.to_categorical(labels_train)\n",
    "labels_np_train\n"
   ]
  },
  {
   "cell_type": "code",
   "execution_count": 0,
   "metadata": {
    "colab": {},
    "colab_type": "code",
    "id": "XSss9QsnLyT7"
   },
   "outputs": [],
   "source": []
  },
  {
   "cell_type": "code",
   "execution_count": 0,
   "metadata": {
    "colab": {},
    "colab_type": "code",
    "id": "esaDLllIczjp"
   },
   "outputs": [],
   "source": [
    "X_train, X_val, Y_train, Y_val = train_test_split(padded_norm_train, np.array(labels_train) , test_size=0.30, random_state=42)"
   ]
  },
  {
   "cell_type": "code",
   "execution_count": 31,
   "metadata": {
    "colab": {
     "base_uri": "https://localhost:8080/",
     "height": 121
    },
    "colab_type": "code",
    "id": "RnQFPdQ0dBv5",
    "outputId": "05c3c324-2654-4e77-9972-cbf33cca6f70"
   },
   "outputs": [
    {
     "name": "stdout",
     "output_type": "stream",
     "text": [
      "(53952, 1627)\n",
      "(53952,)\n",
      "\n",
      "\n",
      "(23123, 1627)\n",
      "(23123,)\n"
     ]
    }
   ],
   "source": [
    "print (X_train.shape)\n",
    "print (Y_train.shape)\n",
    "print('\\n')\n",
    "print (X_val.shape)\n",
    "print (Y_val.shape)"
   ]
  },
  {
   "cell_type": "code",
   "execution_count": 32,
   "metadata": {
    "colab": {
     "base_uri": "https://localhost:8080/",
     "height": 35
    },
    "colab_type": "code",
    "id": "zDrPky27fETH",
    "outputId": "6fff3b70-968e-4a3e-b29d-240fc0bb0035"
   },
   "outputs": [
    {
     "data": {
      "text/plain": [
       "(array([1, 2, 3, 4, 5]), array([ 2019,  2306,  5411, 11819, 32397]))"
      ]
     },
     "execution_count": 32,
     "metadata": {
      "tags": []
     },
     "output_type": "execute_result"
    }
   ],
   "source": [
    "np.unique(Y_train, return_counts= True)"
   ]
  },
  {
   "cell_type": "code",
   "execution_count": 0,
   "metadata": {
    "colab": {},
    "colab_type": "code",
    "id": "IzPl4GH3dgLz"
   },
   "outputs": [],
   "source": [
    "#sm = SMOTE(ratio={1:2500, 2:2600, 3:5700,4:13000},kind='borderline1',random_state=42) # lets reduce the imbalance \n",
    "\n",
    "#X_res, Y_res = sm.fit_sample(X_train, Y_train)"
   ]
  },
  {
   "cell_type": "code",
   "execution_count": 34,
   "metadata": {
    "colab": {
     "base_uri": "https://localhost:8080/",
     "height": 121
    },
    "colab_type": "code",
    "id": "fEU12Zrpg_Es",
    "outputId": "d9bd4ec8-725a-4a0e-f573-bfcee41348c6"
   },
   "outputs": [
    {
     "name": "stdout",
     "output_type": "stream",
     "text": [
      "(53952, 1627)\n",
      "(53952,)\n",
      "\n",
      "\n",
      "(23123, 1627)\n",
      "(23123,)\n"
     ]
    }
   ],
   "source": [
    "print (X_train.shape)\n",
    "print (Y_train.shape)\n",
    "print('\\n')\n",
    "print (X_val.shape)\n",
    "print (Y_val.shape)"
   ]
  },
  {
   "cell_type": "code",
   "execution_count": 35,
   "metadata": {
    "colab": {
     "base_uri": "https://localhost:8080/",
     "height": 35
    },
    "colab_type": "code",
    "id": "sZI9hKLThDUM",
    "outputId": "80a6cb9b-ba8f-4070-e2c2-cf1c21afdaa9"
   },
   "outputs": [
    {
     "data": {
      "text/plain": [
       "(array([1, 2, 3, 4, 5]), array([ 2019,  2306,  5411, 11819, 32397]))"
      ]
     },
     "execution_count": 35,
     "metadata": {
      "tags": []
     },
     "output_type": "execute_result"
    }
   ],
   "source": [
    "np.unique(Y_train, return_counts= True)"
   ]
  },
  {
   "cell_type": "code",
   "execution_count": 0,
   "metadata": {
    "colab": {},
    "colab_type": "code",
    "id": "d76pDir0BOZB"
   },
   "outputs": [],
   "source": [
    "from keras.layers import Dropout"
   ]
  },
  {
   "cell_type": "markdown",
   "metadata": {
    "colab_type": "text",
    "id": "NJ17-HqXxqyb"
   },
   "source": [
    "The Embedding has a vocabulary of 15 and an input length of 4. We will choose a small embedding space of 8 dimensions.\n",
    "\n",
    "The model is a simple binary classification model.\n",
    "\n",
    "Importantly, the output from the Embedding layer will be 4 vectors of 8 dimensions each, one for each word. We flatten this to a one 32-element vector to pass on to the Dense output layer.\n",
    "\n"
   ]
  },
  {
   "cell_type": "code",
   "execution_count": 0,
   "metadata": {
    "colab": {},
    "colab_type": "code",
    "id": "iKeGQ4hLrAik"
   },
   "outputs": [],
   "source": [
    "# define the model\n",
    "model = Sequential()\n",
    "model.add(Embedding(vocab_size, 128, input_length=max_length)) # 128 is vector size\n",
    "model.add(Flatten())\n",
    "\n",
    "model.add(Dense(128, activation = 'relu'))\n",
    "model.add(Dropout(0.25))\n",
    "\n",
    "model.add(Dense(64, activation = 'relu'))\n",
    "model.add(Dropout(0.25))\n",
    "\n",
    "model.add(Dense(6, activation='softmax'))\n",
    "model.add(Dropout(0.25))"
   ]
  },
  {
   "cell_type": "code",
   "execution_count": 0,
   "metadata": {
    "colab": {},
    "colab_type": "code",
    "id": "XIjTOWzVBMjZ"
   },
   "outputs": [],
   "source": []
  },
  {
   "cell_type": "code",
   "execution_count": 0,
   "metadata": {
    "colab": {},
    "colab_type": "code",
    "id": "M8HsD6bbrAoX"
   },
   "outputs": [],
   "source": [
    "# compile the model\n",
    "model.compile(optimizer='adam', loss='binary_crossentropy', metrics=['accuracy'])"
   ]
  },
  {
   "cell_type": "code",
   "execution_count": 39,
   "metadata": {
    "colab": {
     "base_uri": "https://localhost:8080/",
     "height": 156
    },
    "colab_type": "code",
    "id": "Vj940JUzrArl",
    "outputId": "ed0bf30a-4cee-48af-e4cd-ac8671be7d3c"
   },
   "outputs": [
    {
     "name": "stdout",
     "output_type": "stream",
     "text": [
      "Train on 53952 samples, validate on 23123 samples\n",
      "Epoch 1/3\n",
      "53952/53952 [==============================] - 103s 2ms/step - loss: 0.9442 - acc: 0.8543 - val_loss: 0.3204 - val_acc: 0.8333\n",
      "Epoch 2/3\n",
      "53952/53952 [==============================] - 100s 2ms/step - loss: 0.9165 - acc: 0.8579 - val_loss: 0.3113 - val_acc: 0.8681\n",
      "Epoch 3/3\n",
      "53952/53952 [==============================] - 101s 2ms/step - loss: 0.9127 - acc: 0.8585 - val_loss: 0.3121 - val_acc: 0.8681\n"
     ]
    },
    {
     "data": {
      "text/plain": [
       "<keras.callbacks.History at 0x7f0dd0af2f60>"
      ]
     },
     "execution_count": 39,
     "metadata": {
      "tags": []
     },
     "output_type": "execute_result"
    }
   ],
   "source": [
    "# fit the model\n",
    "model.fit(padded_norm_train, labels_np_train, epochs=3, verbose=1,validation_split=0.3)"
   ]
  },
  {
   "cell_type": "code",
   "execution_count": 40,
   "metadata": {
    "colab": {
     "base_uri": "https://localhost:8080/",
     "height": 52
    },
    "colab_type": "code",
    "id": "38VG1wE9rAmE",
    "outputId": "212c5d49-460f-4cd7-ebcd-fe7a7a8faf4c"
   },
   "outputs": [
    {
     "name": "stdout",
     "output_type": "stream",
     "text": [
      "77075/77075 [==============================] - 15s 189us/step\n",
      "Accuracy: 86.697807\n"
     ]
    }
   ],
   "source": [
    "# evaluate the model\n",
    "loss, accuracy = model.evaluate(padded_norm_train, labels_np_train, verbose=1)\n",
    "print('Accuracy: %f' % (accuracy*100))"
   ]
  },
  {
   "cell_type": "code",
   "execution_count": 0,
   "metadata": {
    "colab": {},
    "colab_type": "code",
    "id": "sWdCJqfQrAdR"
   },
   "outputs": [],
   "source": [
    "y_predict_test = model.predict_classes(padded_norm_test)"
   ]
  },
  {
   "cell_type": "code",
   "execution_count": 42,
   "metadata": {
    "colab": {
     "base_uri": "https://localhost:8080/",
     "height": 35
    },
    "colab_type": "code",
    "id": "bHsYFV9uLRkB",
    "outputId": "b63815ed-cda9-4fe7-efe6-7326f4a9a646"
   },
   "outputs": [
    {
     "data": {
      "text/plain": [
       "array([5])"
      ]
     },
     "execution_count": 42,
     "metadata": {
      "tags": []
     },
     "output_type": "execute_result"
    }
   ],
   "source": [
    "np.unique(y_predict_test)"
   ]
  },
  {
   "cell_type": "code",
   "execution_count": 0,
   "metadata": {
    "colab": {},
    "colab_type": "code",
    "id": "_CVSO1p5rAR8"
   },
   "outputs": [],
   "source": [
    "submission = pd.DataFrame(y_predict_test, columns = ['overall'], index = test_data['ID'])"
   ]
  },
  {
   "cell_type": "code",
   "execution_count": 0,
   "metadata": {
    "colab": {},
    "colab_type": "code",
    "id": "mRrWiHLnrAP6"
   },
   "outputs": [],
   "source": [
    "submission.to_csv('submission.csv')"
   ]
  },
  {
   "cell_type": "code",
   "execution_count": 0,
   "metadata": {
    "colab": {},
    "colab_type": "code",
    "id": "xyBsvctdrAET"
   },
   "outputs": [],
   "source": [
    "files.download(\"submission.csv\")"
   ]
  },
  {
   "cell_type": "code",
   "execution_count": 0,
   "metadata": {
    "colab": {},
    "colab_type": "code",
    "id": "wcp590MirACk"
   },
   "outputs": [],
   "source": []
  },
  {
   "cell_type": "code",
   "execution_count": 0,
   "metadata": {
    "colab": {},
    "colab_type": "code",
    "id": "62VvbuIqT_v_"
   },
   "outputs": [],
   "source": []
  },
  {
   "cell_type": "markdown",
   "metadata": {
    "colab_type": "text",
    "id": "vYuJ_i8WP2Dy"
   },
   "source": [
    "**model 2 with different loss function**"
   ]
  },
  {
   "cell_type": "code",
   "execution_count": 0,
   "metadata": {
    "colab": {},
    "colab_type": "code",
    "id": "3lCV6-9yF2UW"
   },
   "outputs": [],
   "source": [
    "# define the model\n",
    "model2 = Sequential()\n",
    "model2.add(Embedding(vocab_size, 128, input_length=max_length)) # 128 is vector size\n",
    "model2.add(Flatten())\n",
    "\n",
    "model2.add(Dense(128, activation = 'relu'))\n",
    "model2.add(Dense(64, activation = 'relu'))\n",
    "model2.add(Dense(16, activation = 'relu'))\n",
    "\n",
    "model2.add(Dense(6, activation='softmax'))"
   ]
  },
  {
   "cell_type": "code",
   "execution_count": 47,
   "metadata": {
    "colab": {
     "base_uri": "https://localhost:8080/",
     "height": 35
    },
    "colab_type": "code",
    "id": "9UA2mk9aS_cu",
    "outputId": "60da1e29-e2c2-4cf8-a5a0-a9e6873cddb7"
   },
   "outputs": [
    {
     "data": {
      "text/plain": [
       "(23123, 1627)"
      ]
     },
     "execution_count": 47,
     "metadata": {
      "tags": []
     },
     "output_type": "execute_result"
    }
   ],
   "source": [
    "X_val.shape"
   ]
  },
  {
   "cell_type": "code",
   "execution_count": 48,
   "metadata": {
    "colab": {
     "base_uri": "https://localhost:8080/",
     "height": 173
    },
    "colab_type": "code",
    "id": "pgtgzoLOQ0SK",
    "outputId": "abee01cb-8126-4662-9956-fb96d8f07032"
   },
   "outputs": [
    {
     "name": "stdout",
     "output_type": "stream",
     "text": [
      "Train on 53952 samples, validate on 23123 samples\n",
      "Epoch 1/3\n",
      "53952/53952 [==============================] - 99s 2ms/step - loss: 1.1486 - acc: 0.5984 - val_loss: 1.1313 - val_acc: 0.6044\n",
      "Epoch 2/3\n",
      "53952/53952 [==============================] - 98s 2ms/step - loss: 1.1321 - acc: 0.5995 - val_loss: 1.1281 - val_acc: 0.6044\n",
      "Epoch 3/3\n",
      "53952/53952 [==============================] - 98s 2ms/step - loss: 1.1302 - acc: 0.5995 - val_loss: 1.1249 - val_acc: 0.6044\n",
      "77075/77075 [==============================] - 12s 156us/step\n",
      "Accuracy: 60.093416\n"
     ]
    }
   ],
   "source": [
    "# compile the model\n",
    "model2.compile(optimizer='adam', loss='categorical_crossentropy', metrics=['accuracy'])\n",
    "\n",
    "# fit the model\n",
    "model2.fit(padded_norm_train, labels_np_train, epochs=3, verbose=1,validation_split=0.3)\n",
    "\n",
    "\n",
    "\n",
    "# evaluate the model\n",
    "loss, accuracy = model2.evaluate(padded_norm_train, labels_np_train, verbose=1)\n",
    "print('Accuracy: %f' % (accuracy*100))"
   ]
  },
  {
   "cell_type": "code",
   "execution_count": 49,
   "metadata": {
    "colab": {
     "base_uri": "https://localhost:8080/",
     "height": 52
    },
    "colab_type": "code",
    "id": "ZtEKFd5EUKIr",
    "outputId": "a2eec741-8cb4-44f4-df2d-04b11749eb31"
   },
   "outputs": [
    {
     "name": "stdout",
     "output_type": "stream",
     "text": [
      "77075/77075 [==============================] - 12s 157us/step\n",
      "Accuracy: 60.093416\n"
     ]
    }
   ],
   "source": [
    "# evaluate the model\n",
    "loss, accuracy = model2.evaluate(padded_norm_train, labels_np_train, verbose=1)\n",
    "print('Accuracy: %f' % (accuracy*100))"
   ]
  },
  {
   "cell_type": "code",
   "execution_count": 0,
   "metadata": {
    "colab": {},
    "colab_type": "code",
    "id": "hNYQdIY6lTQM"
   },
   "outputs": [],
   "source": [
    "y_predict2_test = model2.predict_classes(padded_norm_test)"
   ]
  },
  {
   "cell_type": "code",
   "execution_count": 0,
   "metadata": {
    "colab": {},
    "colab_type": "code",
    "id": "79yI5__AGPL4"
   },
   "outputs": [],
   "source": []
  },
  {
   "cell_type": "code",
   "execution_count": 51,
   "metadata": {
    "colab": {
     "base_uri": "https://localhost:8080/",
     "height": 35
    },
    "colab_type": "code",
    "id": "i6AKh8FYlTFc",
    "outputId": "6d6a738a-137a-4b5c-8904-e23bd034871b"
   },
   "outputs": [
    {
     "data": {
      "text/plain": [
       "array([5])"
      ]
     },
     "execution_count": 51,
     "metadata": {
      "tags": []
     },
     "output_type": "execute_result"
    }
   ],
   "source": [
    "np.unique(y_predict2_test)"
   ]
  },
  {
   "cell_type": "code",
   "execution_count": 0,
   "metadata": {
    "colab": {},
    "colab_type": "code",
    "id": "hElXU-1dlS6B"
   },
   "outputs": [],
   "source": [
    "submission_2 = pd.DataFrame(y_predict2_test, columns = ['overall'], index = test_data['ID'])\n",
    "\n",
    "\n"
   ]
  },
  {
   "cell_type": "code",
   "execution_count": 0,
   "metadata": {
    "colab": {},
    "colab_type": "code",
    "id": "uplGgtgEl3Yr"
   },
   "outputs": [],
   "source": [
    "submission_2.to_csv('submission_2.csv')"
   ]
  },
  {
   "cell_type": "code",
   "execution_count": 0,
   "metadata": {
    "colab": {},
    "colab_type": "code",
    "id": "QMM4-xC7Gkcp"
   },
   "outputs": [],
   "source": []
  },
  {
   "cell_type": "code",
   "execution_count": 0,
   "metadata": {
    "colab": {},
    "colab_type": "code",
    "id": "LKDlWvGpl3Vk"
   },
   "outputs": [],
   "source": [
    "files.download(\"submission_2.csv\")"
   ]
  },
  {
   "cell_type": "markdown",
   "metadata": {
    "colab_type": "text",
    "id": "u56F4O6mLFO8"
   },
   "source": [
    "**Using Pre-Trained GloVe Embedding**"
   ]
  },
  {
   "cell_type": "code",
   "execution_count": 55,
   "metadata": {
    "colab": {
     "base_uri": "https://localhost:8080/",
     "height": 35
    },
    "colab_type": "code",
    "id": "aB1Vg1vqLIeE",
    "outputId": "5ac155d6-5943-4358-d651-ca3ed3dcf550"
   },
   "outputs": [
    {
     "name": "stdout",
     "output_type": "stream",
     "text": [
      "Loaded 14 word vectors.\n"
     ]
    }
   ],
   "source": [
    "# load the whole embedding into memory\n",
    "embeddings_index = dict()\n",
    "f = open('glove.50d.txt')\n",
    "for line in f:\n",
    "    values = line.split()\n",
    "    word = values[0]\n",
    "    coefs = asarray(values[1:], dtype='float32') #Convert the input to an array.\n",
    "    embeddings_index[word] = coefs\n",
    "f.close()\n",
    "print('Loaded %s word vectors.' % len(embeddings_index))"
   ]
  },
  {
   "cell_type": "code",
   "execution_count": 0,
   "metadata": {
    "colab": {},
    "colab_type": "code",
    "id": "NwyyWpO-k47W"
   },
   "outputs": [],
   "source": [
    "# create a weight matrix for words in training docs\n",
    "embedding_matrix = zeros((vocab_size, 50)) #Return a new array of given shape and type, filled with zeros.\n",
    "for word, i in t.word_index.items():\n",
    "    embedding_vector = embeddings_index.get(word)\n",
    "    if embedding_vector is not None:\n",
    "        embedding_matrix[i] = embedding_vector"
   ]
  },
  {
   "cell_type": "code",
   "execution_count": 57,
   "metadata": {
    "colab": {
     "base_uri": "https://localhost:8080/",
     "height": 139
    },
    "colab_type": "code",
    "id": "46P4IZBsmrV0",
    "outputId": "36e4cb86-a204-4168-ace9-57c14d344546"
   },
   "outputs": [
    {
     "name": "stdout",
     "output_type": "stream",
     "text": [
      "[[0. 0. 0. ... 0. 0. 0.]\n",
      " [0. 0. 0. ... 0. 0. 0.]\n",
      " [0. 0. 0. ... 0. 0. 0.]\n",
      " ...\n",
      " [0. 0. 0. ... 0. 0. 0.]\n",
      " [0. 0. 0. ... 0. 0. 0.]\n",
      " [0. 0. 0. ... 0. 0. 0.]]\n"
     ]
    }
   ],
   "source": [
    "print (embedding_matrix)"
   ]
  },
  {
   "cell_type": "code",
   "execution_count": 0,
   "metadata": {
    "colab": {},
    "colab_type": "code",
    "id": "j53Nhqf3mxy2"
   },
   "outputs": [],
   "source": [
    "# define model\n",
    "model3 = Sequential()\n",
    "model3.add(Embedding(vocab_size, 50, weights=[embedding_matrix], input_length=1627, trainable=False))\n",
    "# the model will take as input an integer matrix of size (batch, input_length).\n",
    "model3.add(Flatten())\n",
    "model3.add(Dense(128, activation='relu'))\n",
    "model3.add(Dropout(0.25))\n",
    "model3.add(Dense(64, activation='relu'))\n",
    "model3.add(Dropout(0.25))\n",
    "model3.add(Dense(16, activation='relu'))\n",
    "model3.add(Dropout(0.25))\n",
    "model3.add(Dense(6, activation='softmax'))"
   ]
  },
  {
   "cell_type": "code",
   "execution_count": 0,
   "metadata": {
    "colab": {},
    "colab_type": "code",
    "id": "xxC29Zu8aca8"
   },
   "outputs": [],
   "source": [
    " # compile the model\n",
    "model3.compile(optimizer='adam', loss='binary_crossentropy', metrics=['acc'])"
   ]
  },
  {
   "cell_type": "code",
   "execution_count": 60,
   "metadata": {
    "colab": {
     "base_uri": "https://localhost:8080/",
     "height": 468
    },
    "colab_type": "code",
    "id": "Iw13cQljaysL",
    "outputId": "9b31cc2a-5615-4d96-e80d-c02d71cec695"
   },
   "outputs": [
    {
     "name": "stdout",
     "output_type": "stream",
     "text": [
      "_________________________________________________________________\n",
      "Layer (type)                 Output Shape              Param #   \n",
      "=================================================================\n",
      "embedding_3 (Embedding)      (None, 1627, 50)          3682350   \n",
      "_________________________________________________________________\n",
      "flatten_3 (Flatten)          (None, 81350)             0         \n",
      "_________________________________________________________________\n",
      "dense_8 (Dense)              (None, 128)               10412928  \n",
      "_________________________________________________________________\n",
      "dropout_4 (Dropout)          (None, 128)               0         \n",
      "_________________________________________________________________\n",
      "dense_9 (Dense)              (None, 64)                8256      \n",
      "_________________________________________________________________\n",
      "dropout_5 (Dropout)          (None, 64)                0         \n",
      "_________________________________________________________________\n",
      "dense_10 (Dense)             (None, 16)                1040      \n",
      "_________________________________________________________________\n",
      "dropout_6 (Dropout)          (None, 16)                0         \n",
      "_________________________________________________________________\n",
      "dense_11 (Dense)             (None, 6)                 102       \n",
      "=================================================================\n",
      "Total params: 14,104,676\n",
      "Trainable params: 10,422,326\n",
      "Non-trainable params: 3,682,350\n",
      "_________________________________________________________________\n",
      "None\n"
     ]
    }
   ],
   "source": [
    "# summarize the model\n",
    "print(model3.summary())"
   ]
  },
  {
   "cell_type": "code",
   "execution_count": 61,
   "metadata": {
    "colab": {
     "base_uri": "https://localhost:8080/",
     "height": 139
    },
    "colab_type": "code",
    "id": "Vs4naxFba47k",
    "outputId": "8409199c-0ecb-4f38-98d4-74cb7bd708a8"
   },
   "outputs": [
    {
     "name": "stdout",
     "output_type": "stream",
     "text": [
      "Epoch 1/3\n",
      "77075/77075 [==============================] - 49s 634us/step - loss: 0.3481 - acc: 0.8482\n",
      "Epoch 2/3\n",
      "77075/77075 [==============================] - 48s 626us/step - loss: 0.3128 - acc: 0.8670\n",
      "Epoch 3/3\n",
      "77075/77075 [==============================] - 48s 626us/step - loss: 0.3106 - acc: 0.8670\n"
     ]
    },
    {
     "data": {
      "text/plain": [
       "<keras.callbacks.History at 0x7f0dcb8bb048>"
      ]
     },
     "execution_count": 61,
     "metadata": {
      "tags": []
     },
     "output_type": "execute_result"
    }
   ],
   "source": [
    "embedding_matrix[i] = embedding_vector# fit the model\n",
    "model3.fit(padded_norm_train, labels_np_train, epochs=3, verbose=1)   "
   ]
  },
  {
   "cell_type": "code",
   "execution_count": 62,
   "metadata": {
    "colab": {
     "base_uri": "https://localhost:8080/",
     "height": 52
    },
    "colab_type": "code",
    "id": "16LmKH9pGEK2",
    "outputId": "25022ef4-8183-4cb1-ff66-bc8e9fae1994"
   },
   "outputs": [
    {
     "name": "stdout",
     "output_type": "stream",
     "text": [
      "77075/77075 [==============================] - 10s 124us/step\n",
      "Accuracy: 86.697807\n"
     ]
    }
   ],
   "source": [
    "# evaluate the model\n",
    "loss, accuracy = model3.evaluate(padded_norm_train, labels_np_train, verbose=1)\n",
    "print('Accuracy: %f' % (accuracy*100))"
   ]
  },
  {
   "cell_type": "code",
   "execution_count": 0,
   "metadata": {
    "colab": {},
    "colab_type": "code",
    "id": "xqtxVaMeGQzj"
   },
   "outputs": [],
   "source": [
    "y_predict3_test = model3.predict_classes(padded_norm_test)"
   ]
  },
  {
   "cell_type": "code",
   "execution_count": 64,
   "metadata": {
    "colab": {
     "base_uri": "https://localhost:8080/",
     "height": 35
    },
    "colab_type": "code",
    "id": "5JbAPL4JGXyR",
    "outputId": "72085a75-7b77-43e8-fe5f-c67cc831dbd8"
   },
   "outputs": [
    {
     "data": {
      "text/plain": [
       "array([5])"
      ]
     },
     "execution_count": 64,
     "metadata": {
      "tags": []
     },
     "output_type": "execute_result"
    }
   ],
   "source": [
    "np.unique(y_predict3_test)"
   ]
  },
  {
   "cell_type": "code",
   "execution_count": 0,
   "metadata": {
    "colab": {},
    "colab_type": "code",
    "id": "s8z7jW-fGewG"
   },
   "outputs": [],
   "source": [
    "submission_3 = pd.DataFrame(y_predict3_test, columns = ['overall'], index = test_data['ID'])"
   ]
  },
  {
   "cell_type": "code",
   "execution_count": 0,
   "metadata": {
    "colab": {},
    "colab_type": "code",
    "id": "gqIhF6aKGmCV"
   },
   "outputs": [],
   "source": [
    "submission_3.to_csv('submission_3.csv')"
   ]
  },
  {
   "cell_type": "code",
   "execution_count": 0,
   "metadata": {
    "colab": {},
    "colab_type": "code",
    "id": "o-vp8tMkGsHn"
   },
   "outputs": [],
   "source": [
    "files.download(\"submission_3.csv\")"
   ]
  }
 ],
 "metadata": {
  "accelerator": "GPU",
  "colab": {
   "collapsed_sections": [],
   "name": "CUT4.ipynb",
   "provenance": [],
   "version": "0.3.2"
  },
  "kernelspec": {
   "display_name": "Python 3",
   "language": "python",
   "name": "python3"
  },
  "language_info": {
   "codemirror_mode": {
    "name": "ipython",
    "version": 3
   },
   "file_extension": ".py",
   "mimetype": "text/x-python",
   "name": "python",
   "nbconvert_exporter": "python",
   "pygments_lexer": "ipython3",
   "version": "3.6.5"
  }
 },
 "nbformat": 4,
 "nbformat_minor": 1
}
